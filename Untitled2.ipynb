{
 "cells": [
  {
   "cell_type": "code",
   "execution_count": 9,
   "metadata": {
    "collapsed": true
   },
   "outputs": [],
   "source": [
    "import pandas as pd\n",
    "import numpy as np"
   ]
  },
  {
   "cell_type": "code",
   "execution_count": 2,
   "metadata": {
    "collapsed": true
   },
   "outputs": [],
   "source": [
    "data = pd.read_csv('result/visibleMoveFirst/consensus_inertia=0.90_beta=1.00.csv')"
   ]
  },
  {
   "cell_type": "code",
   "execution_count": 11,
   "metadata": {
    "collapsed": false
   },
   "outputs": [
    {
     "data": {
      "text/plain": [
       "delay  #adversarial\n",
       "0      0               0.472408\n",
       "       2               0.099750\n",
       "       5               0.015783\n",
       "1      0               0.486042\n",
       "       2               0.103342\n",
       "       5               0.015700\n",
       "2      0               0.495817\n",
       "       2               0.104700\n",
       "       5               0.016308\n",
       "3      0               0.505275\n",
       "       2               0.104225\n",
       "       5               0.015633\n",
       "4      0               0.512242\n",
       "       2               0.109758\n",
       "       5               0.016350\n",
       "5      0               0.517458\n",
       "       2               0.109750\n",
       "       5               0.015817\n",
       "6      0               0.524433\n",
       "       2               0.110425\n",
       "       5               0.015725\n",
       "7      0               0.527767\n",
       "       2               0.108875\n",
       "       5               0.015617\n",
       "8      0               0.529200\n",
       "       2               0.109650\n",
       "       5               0.016192\n",
       "9      0               0.532483\n",
       "       2               0.106933\n",
       "       5               0.015133\n",
       "10     0               0.532025\n",
       "       2               0.107600\n",
       "       5               0.015242\n",
       "11     0               0.530167\n",
       "       2               0.106292\n",
       "       5               0.014625\n",
       "12     0               0.529758\n",
       "       2               0.104100\n",
       "       5               0.014450\n",
       "13     0               0.527892\n",
       "       2               0.103233\n",
       "       5               0.014058\n",
       "14     0               0.522042\n",
       "       2               0.101792\n",
       "       5               0.014342\n",
       "15     0               0.519650\n",
       "       2               0.100442\n",
       "       5               0.013417\n",
       "Name: ratio, dtype: float64"
      ]
     },
     "execution_count": 11,
     "metadata": {},
     "output_type": "execute_result"
    }
   ],
   "source": [
    "data.groupby(['delay', '#adversarial'])['ratio'].mean()"
   ]
  },
  {
   "cell_type": "code",
   "execution_count": 10,
   "metadata": {
    "collapsed": false
   },
   "outputs": [
    {
     "data": {
      "text/plain": [
       "#adversarial\n",
       "0    4.411650\n",
       "2    5.225743\n",
       "5    5.391264\n",
       "Name: colorChanges, dtype: float64"
      ]
     },
     "execution_count": 10,
     "metadata": {},
     "output_type": "execute_result"
    }
   ],
   "source": [
    "data.groupby('#adversarial')['colorChanges'].mean() / np.asarray([20, 22, 25])"
   ]
  },
  {
   "cell_type": "code",
   "execution_count": null,
   "metadata": {
    "collapsed": true
   },
   "outputs": [],
   "source": []
  }
 ],
 "metadata": {
  "kernelspec": {
   "display_name": "Python 2",
   "language": "python",
   "name": "python2"
  },
  "language_info": {
   "codemirror_mode": {
    "name": "ipython",
    "version": 2
   },
   "file_extension": ".py",
   "mimetype": "text/x-python",
   "name": "python",
   "nbconvert_exporter": "python",
   "pygments_lexer": "ipython2",
   "version": "2.7.11"
  }
 },
 "nbformat": 4,
 "nbformat_minor": 0
}
