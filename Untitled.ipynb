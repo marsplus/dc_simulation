{
 "cells": [
  {
   "cell_type": "code",
   "execution_count": 1,
   "metadata": {
    "collapsed": true
   },
   "outputs": [],
   "source": [
    "import pandas as pd"
   ]
  },
  {
   "cell_type": "code",
   "execution_count": 2,
   "metadata": {
    "collapsed": false
   },
   "outputs": [],
   "source": [
    "data = pd.read_csv('result/consensus_inertia=0.90.csv', sep=',')\n",
    "time = pd.read_csv('result/time_inertia=0.90.csv', sep=',')"
   ]
  },
  {
   "cell_type": "markdown",
   "metadata": {},
   "source": [
    "\n",
    "\n",
    "\n"
   ]
  },
  {
   "cell_type": "code",
   "execution_count": 7,
   "metadata": {
    "collapsed": false
   },
   "outputs": [
    {
     "name": "stdout",
     "output_type": "stream",
     "text": [
      "********************************************************************************\n",
      "ratio over adversaries\n",
      "\n",
      "#adversarial\n",
      "0    0.250000\n",
      "2    0.164668\n",
      "5    0.111698\n",
      "Name: ratio, dtype: float64\n",
      "\n",
      "********************************************************************************\n"
     ]
    }
   ],
   "source": [
    "print '*' * 80\n",
    "print \"ratio over adversaries\\n\"\n",
    "\n",
    "print data.groupby('#adversarial')['ratio'].mean()\n",
    "print\n",
    "\n",
    "print '*' * 80"
   ]
  },
  {
   "cell_type": "code",
   "execution_count": 8,
   "metadata": {
    "collapsed": false
   },
   "outputs": [
    {
     "name": "stdout",
     "output_type": "stream",
     "text": [
      "********************************************************************************\n",
      "ratio over network\n",
      "\n",
      "network\n",
      "Barabasi-Albert       0.152737\n",
      "Erdos-Renyi-dense     0.195125\n",
      "Erdos-Renyi-sparse    0.178505\n",
      "Name: ratio, dtype: float64\n",
      "\n",
      "********************************************************************************\n"
     ]
    }
   ],
   "source": [
    "print '*' * 80\n",
    "print \"ratio over network\\n\"\n",
    "\n",
    "print data.groupby('network')['ratio'].mean()\n",
    "print\n",
    "print '*' * 80"
   ]
  },
  {
   "cell_type": "code",
   "execution_count": 27,
   "metadata": {
    "collapsed": false
   },
   "outputs": [
    {
     "name": "stdout",
     "output_type": "stream",
     "text": [
      "********************************************************************************\n",
      "ratio over visibleNodes\n",
      "\n",
      "#visibleNodes\n",
      "0    0.701822\n",
      "1    0.000000\n",
      "2    0.000000\n",
      "5    0.000000\n",
      "Name: ratio, dtype: float64\n",
      "\n",
      "********************************************************************************\n"
     ]
    }
   ],
   "source": [
    "print '*' * 80\n",
    "print \"ratio over visibleNodes\\n\"\n",
    "\n",
    "print data.groupby('#visibleNodes')['ratio'].mean()\n",
    "print\n",
    "print '*' * 80"
   ]
  },
  {
   "cell_type": "code",
   "execution_count": 10,
   "metadata": {
    "collapsed": false
   },
   "outputs": [
    {
     "name": "stdout",
     "output_type": "stream",
     "text": [
      "********************************************************************************\n",
      "ratio over adversaries and network\n",
      "\n",
      "#adversarial  network           \n",
      "0             Barabasi-Albert       0.250000\n",
      "              Erdos-Renyi-dense     0.250000\n",
      "              Erdos-Renyi-sparse    0.250000\n",
      "2             Barabasi-Albert       0.140235\n",
      "              Erdos-Renyi-dense     0.191245\n",
      "              Erdos-Renyi-sparse    0.162525\n",
      "5             Barabasi-Albert       0.067975\n",
      "              Erdos-Renyi-dense     0.144130\n",
      "              Erdos-Renyi-sparse    0.122990\n",
      "Name: ratio, dtype: float64\n",
      "\n",
      "********************************************************************************\n"
     ]
    }
   ],
   "source": [
    "print '*' * 80\n",
    "print \"ratio over adversaries and network\\n\"\n",
    "\n",
    "print data.groupby(['#adversarial', 'network'])['ratio'].mean()\n",
    "print\n",
    "print '*' * 80"
   ]
  },
  {
   "cell_type": "code",
   "execution_count": 11,
   "metadata": {
    "collapsed": false
   },
   "outputs": [
    {
     "name": "stdout",
     "output_type": "stream",
     "text": [
      "********************************************************************************\n",
      "ratio over adversaries and visibleNodes\n",
      "\n",
      "#adversarial  #visibleNodes\n",
      "0             0                1.000000\n",
      "              1                0.000000\n",
      "              2                0.000000\n",
      "              5                0.000000\n",
      "2             0                0.658673\n",
      "              1                0.000000\n",
      "              2                0.000000\n",
      "              5                0.000000\n",
      "5             0                0.446793\n",
      "              1                0.000000\n",
      "              2                0.000000\n",
      "              5                0.000000\n",
      "Name: ratio, dtype: float64\n",
      "\n",
      "********************************************************************************\n"
     ]
    }
   ],
   "source": [
    "print '*' * 80\n",
    "print \"ratio over adversaries and visibleNodes\\n\"\n",
    "\n",
    "print data.groupby(['#adversarial', '#visibleNodes'])['ratio'].mean()\n",
    "print\n",
    "print '*' * 80"
   ]
  },
  {
   "cell_type": "code",
   "execution_count": 12,
   "metadata": {
    "collapsed": false
   },
   "outputs": [
    {
     "name": "stdout",
     "output_type": "stream",
     "text": [
      "********************************************************************************\n",
      "ratio over network and adversaries\n",
      "\n",
      "network             #adversarial\n",
      "Barabasi-Albert     0               0.250000\n",
      "                    2               0.140235\n",
      "                    5               0.067975\n",
      "Erdos-Renyi-dense   0               0.250000\n",
      "                    2               0.191245\n",
      "                    5               0.144130\n",
      "Erdos-Renyi-sparse  0               0.250000\n",
      "                    2               0.162525\n",
      "                    5               0.122990\n",
      "Name: ratio, dtype: float64\n",
      "\n",
      "********************************************************************************\n"
     ]
    }
   ],
   "source": [
    "print '*' * 80\n",
    "print \"ratio over network and adversaries\\n\"\n",
    "\n",
    "print data.groupby(['network', '#adversarial'])['ratio'].mean()\n",
    "print\n",
    "print '*' * 80"
   ]
  },
  {
   "cell_type": "code",
   "execution_count": 13,
   "metadata": {
    "collapsed": false
   },
   "outputs": [
    {
     "name": "stdout",
     "output_type": "stream",
     "text": [
      "********************************************************************************\n",
      "ratio over network and visibleNodes\n",
      "\n",
      "network             #visibleNodes\n",
      "Barabasi-Albert     0                0.610947\n",
      "                    1                0.000000\n",
      "                    2                0.000000\n",
      "                    5                0.000000\n",
      "Erdos-Renyi-dense   0                0.780500\n",
      "                    1                0.000000\n",
      "                    2                0.000000\n",
      "                    5                0.000000\n",
      "Erdos-Renyi-sparse  0                0.714020\n",
      "                    1                0.000000\n",
      "                    2                0.000000\n",
      "                    5                0.000000\n",
      "Name: ratio, dtype: float64\n",
      "\n",
      "********************************************************************************\n"
     ]
    }
   ],
   "source": [
    "print '*' * 80\n",
    "print \"ratio over network and visibleNodes\\n\"\n",
    "\n",
    "print data.groupby(['network', '#visibleNodes'])['ratio'].mean()\n",
    "print\n",
    "print '*' * 80"
   ]
  },
  {
   "cell_type": "code",
   "execution_count": 14,
   "metadata": {
    "collapsed": false
   },
   "outputs": [
    {
     "name": "stdout",
     "output_type": "stream",
     "text": [
      "********************************************************************************\n",
      "ratio over visibleNodes and adversaries\n",
      "\n",
      "#visibleNodes  #adversarial\n",
      "0              0               1.000000\n",
      "               2               0.658673\n",
      "               5               0.446793\n",
      "1              0               0.000000\n",
      "               2               0.000000\n",
      "               5               0.000000\n",
      "2              0               0.000000\n",
      "               2               0.000000\n",
      "               5               0.000000\n",
      "5              0               0.000000\n",
      "               2               0.000000\n",
      "               5               0.000000\n",
      "Name: ratio, dtype: float64\n",
      "\n",
      "********************************************************************************\n"
     ]
    }
   ],
   "source": [
    "print '*' * 80\n",
    "print \"ratio over visibleNodes and adversaries\\n\"\n",
    "\n",
    "print data.groupby(['#visibleNodes', '#adversarial'])['ratio'].mean()\n",
    "print\n",
    "print '*' * 80"
   ]
  },
  {
   "cell_type": "code",
   "execution_count": 15,
   "metadata": {
    "collapsed": false
   },
   "outputs": [
    {
     "name": "stdout",
     "output_type": "stream",
     "text": [
      "********************************************************************************\n",
      "ratio over visibleNodes and network\n",
      "\n",
      "#visibleNodes  network           \n",
      "0              Barabasi-Albert       0.610947\n",
      "               Erdos-Renyi-dense     0.780500\n",
      "               Erdos-Renyi-sparse    0.714020\n",
      "1              Barabasi-Albert       0.000000\n",
      "               Erdos-Renyi-dense     0.000000\n",
      "               Erdos-Renyi-sparse    0.000000\n",
      "2              Barabasi-Albert       0.000000\n",
      "               Erdos-Renyi-dense     0.000000\n",
      "               Erdos-Renyi-sparse    0.000000\n",
      "5              Barabasi-Albert       0.000000\n",
      "               Erdos-Renyi-dense     0.000000\n",
      "               Erdos-Renyi-sparse    0.000000\n",
      "Name: ratio, dtype: float64\n",
      "\n",
      "********************************************************************************\n"
     ]
    }
   ],
   "source": [
    "print '*' * 80\n",
    "print \"ratio over visibleNodes and network\\n\"\n",
    "\n",
    "print data.groupby(['#visibleNodes', 'network'])['ratio'].mean()\n",
    "print\n",
    "print '*' * 80"
   ]
  },
  {
   "cell_type": "code",
   "execution_count": 16,
   "metadata": {
    "collapsed": false
   },
   "outputs": [
    {
     "name": "stdout",
     "output_type": "stream",
     "text": [
      "********************************************************************************\n",
      "0 adversaries: ratio over visibleNodes and network\n",
      "\n",
      "#visibleNodes  network           \n",
      "0              Barabasi-Albert       1\n",
      "               Erdos-Renyi-dense     1\n",
      "               Erdos-Renyi-sparse    1\n",
      "1              Barabasi-Albert       0\n",
      "               Erdos-Renyi-dense     0\n",
      "               Erdos-Renyi-sparse    0\n",
      "2              Barabasi-Albert       0\n",
      "               Erdos-Renyi-dense     0\n",
      "               Erdos-Renyi-sparse    0\n",
      "5              Barabasi-Albert       0\n",
      "               Erdos-Renyi-dense     0\n",
      "               Erdos-Renyi-sparse    0\n",
      "Name: ratio, dtype: int64\n",
      "\n",
      "********************************************************************************\n"
     ]
    }
   ],
   "source": [
    "print '*' * 80\n",
    "print \"0 adversaries: ratio over visibleNodes and network\\n\"\n",
    "\n",
    "print data[data['#adversarial'].isin([0])].groupby(['#visibleNodes', 'network'])['ratio'].mean()\n",
    "print\n",
    "print '*' * 80"
   ]
  },
  {
   "cell_type": "code",
   "execution_count": 17,
   "metadata": {
    "collapsed": false
   },
   "outputs": [
    {
     "name": "stdout",
     "output_type": "stream",
     "text": [
      "********************************************************************************\n",
      "2 adversaries: ratio over visibleNodes and network\n",
      "\n",
      "#visibleNodes  network           \n",
      "0              Barabasi-Albert       0.56094\n",
      "               Erdos-Renyi-dense     0.76498\n",
      "               Erdos-Renyi-sparse    0.65010\n",
      "1              Barabasi-Albert       0.00000\n",
      "               Erdos-Renyi-dense     0.00000\n",
      "               Erdos-Renyi-sparse    0.00000\n",
      "2              Barabasi-Albert       0.00000\n",
      "               Erdos-Renyi-dense     0.00000\n",
      "               Erdos-Renyi-sparse    0.00000\n",
      "5              Barabasi-Albert       0.00000\n",
      "               Erdos-Renyi-dense     0.00000\n",
      "               Erdos-Renyi-sparse    0.00000\n",
      "Name: ratio, dtype: float64\n",
      "\n",
      "********************************************************************************\n"
     ]
    }
   ],
   "source": [
    "print '*' * 80\n",
    "print \"2 adversaries: ratio over visibleNodes and network\\n\"\n",
    "\n",
    "print data[data['#adversarial'].isin([2])].groupby(['#visibleNodes', 'network'])['ratio'].mean()\n",
    "print\n",
    "print '*' * 80"
   ]
  },
  {
   "cell_type": "code",
   "execution_count": 18,
   "metadata": {
    "collapsed": false
   },
   "outputs": [
    {
     "name": "stdout",
     "output_type": "stream",
     "text": [
      "********************************************************************************\n",
      "5 adversaries: ratio over visibleNodes and network\n",
      "\n",
      "#visibleNodes  network           \n",
      "0              Barabasi-Albert       0.27190\n",
      "               Erdos-Renyi-dense     0.57652\n",
      "               Erdos-Renyi-sparse    0.49196\n",
      "1              Barabasi-Albert       0.00000\n",
      "               Erdos-Renyi-dense     0.00000\n",
      "               Erdos-Renyi-sparse    0.00000\n",
      "2              Barabasi-Albert       0.00000\n",
      "               Erdos-Renyi-dense     0.00000\n",
      "               Erdos-Renyi-sparse    0.00000\n",
      "5              Barabasi-Albert       0.00000\n",
      "               Erdos-Renyi-dense     0.00000\n",
      "               Erdos-Renyi-sparse    0.00000\n",
      "Name: ratio, dtype: float64\n",
      "\n",
      "********************************************************************************\n"
     ]
    }
   ],
   "source": [
    "print '*' * 80\n",
    "print \"5 adversaries: ratio over visibleNodes and network\\n\"\n",
    "\n",
    "print data[data['#adversarial'].isin([5])].groupby(['#visibleNodes', 'network'])['ratio'].mean()\n",
    "print\n",
    "print '*' * 80"
   ]
  },
  {
   "cell_type": "code",
   "execution_count": 19,
   "metadata": {
    "collapsed": false
   },
   "outputs": [
    {
     "name": "stdout",
     "output_type": "stream",
     "text": [
      "********************************************************************************\n",
      "Barabasi-Albert: ratio over visibleNodes and adversarial\n",
      "\n",
      "#visibleNodes  #adversarial\n",
      "0              0               1.00000\n",
      "               2               0.56094\n",
      "               5               0.27190\n",
      "1              0               0.00000\n",
      "               2               0.00000\n",
      "               5               0.00000\n",
      "2              0               0.00000\n",
      "               2               0.00000\n",
      "               5               0.00000\n",
      "5              0               0.00000\n",
      "               2               0.00000\n",
      "               5               0.00000\n",
      "Name: ratio, dtype: float64\n",
      "\n",
      "********************************************************************************\n"
     ]
    }
   ],
   "source": [
    "print '*' * 80\n",
    "print \"Barabasi-Albert: ratio over visibleNodes and adversarial\\n\"\n",
    "\n",
    "print data[data['network'].isin(['Barabasi-Albert'])].groupby(['#visibleNodes', '#adversarial'])['ratio'].mean()\n",
    "print\n",
    "print '*' * 80"
   ]
  },
  {
   "cell_type": "code",
   "execution_count": 20,
   "metadata": {
    "collapsed": false
   },
   "outputs": [
    {
     "name": "stdout",
     "output_type": "stream",
     "text": [
      "********************************************************************************\n",
      "Erdos-Renyi-dense: ratio over visibleNodes and adversarial\n",
      "\n",
      "#visibleNodes  #adversarial\n",
      "0              0               1.00000\n",
      "               2               0.76498\n",
      "               5               0.57652\n",
      "1              0               0.00000\n",
      "               2               0.00000\n",
      "               5               0.00000\n",
      "2              0               0.00000\n",
      "               2               0.00000\n",
      "               5               0.00000\n",
      "5              0               0.00000\n",
      "               2               0.00000\n",
      "               5               0.00000\n",
      "Name: ratio, dtype: float64\n",
      "\n",
      "********************************************************************************\n"
     ]
    }
   ],
   "source": [
    "print '*' * 80\n",
    "print \"Erdos-Renyi-dense: ratio over visibleNodes and adversarial\\n\"\n",
    "\n",
    "print data[data['network'].isin(['Erdos-Renyi-dense'])].groupby(['#visibleNodes', '#adversarial'])['ratio'].mean()\n",
    "print\n",
    "print '*' * 80"
   ]
  },
  {
   "cell_type": "code",
   "execution_count": 21,
   "metadata": {
    "collapsed": false
   },
   "outputs": [
    {
     "name": "stdout",
     "output_type": "stream",
     "text": [
      "********************************************************************************\n",
      "Erdos-Renyi-sparse: ratio over visibleNodes and adversarial\n",
      "\n",
      "#visibleNodes  #adversarial\n",
      "0              0               1.00000\n",
      "               2               0.65010\n",
      "               5               0.49196\n",
      "1              0               0.00000\n",
      "               2               0.00000\n",
      "               5               0.00000\n",
      "2              0               0.00000\n",
      "               2               0.00000\n",
      "               5               0.00000\n",
      "5              0               0.00000\n",
      "               2               0.00000\n",
      "               5               0.00000\n",
      "Name: ratio, dtype: float64\n",
      "\n",
      "********************************************************************************\n"
     ]
    }
   ],
   "source": [
    "print '*' * 80\n",
    "print \"Erdos-Renyi-sparse: ratio over visibleNodes and adversarial\\n\"\n",
    "\n",
    "print data[data['network'].isin(['Erdos-Renyi-sparse'])].groupby(['#visibleNodes', '#adversarial'])['ratio'].mean()\n",
    "print\n",
    "print '*' * 80"
   ]
  },
  {
   "cell_type": "code",
   "execution_count": 22,
   "metadata": {
    "collapsed": false
   },
   "outputs": [
    {
     "name": "stdout",
     "output_type": "stream",
     "text": [
      "********************************************************************************\n",
      "0 visibleNodes: ratio over network and adversarial\n",
      "\n",
      "network             #adversarial\n",
      "Barabasi-Albert     0               1.00000\n",
      "                    2               0.56094\n",
      "                    5               0.27190\n",
      "Erdos-Renyi-dense   0               1.00000\n",
      "                    2               0.76498\n",
      "                    5               0.57652\n",
      "Erdos-Renyi-sparse  0               1.00000\n",
      "                    2               0.65010\n",
      "                    5               0.49196\n",
      "Name: ratio, dtype: float64\n",
      "\n",
      "********************************************************************************\n"
     ]
    }
   ],
   "source": [
    "print '*' * 80\n",
    "print \"0 visibleNodes: ratio over network and adversarial\\n\"\n",
    "\n",
    "print data[data['#visibleNodes'].isin([0])].groupby(['network', '#adversarial'])['ratio'].mean()\n",
    "print\n",
    "print '*' * 80"
   ]
  },
  {
   "cell_type": "code",
   "execution_count": 23,
   "metadata": {
    "collapsed": false
   },
   "outputs": [
    {
     "name": "stdout",
     "output_type": "stream",
     "text": [
      "********************************************************************************\n",
      "1 visibleNodes: ratio over network and adversarial\n",
      "\n",
      "network             #adversarial\n",
      "Barabasi-Albert     0               0\n",
      "                    2               0\n",
      "                    5               0\n",
      "Erdos-Renyi-dense   0               0\n",
      "                    2               0\n",
      "                    5               0\n",
      "Erdos-Renyi-sparse  0               0\n",
      "                    2               0\n",
      "                    5               0\n",
      "Name: ratio, dtype: int64\n",
      "\n",
      "********************************************************************************\n"
     ]
    }
   ],
   "source": [
    "print '*' * 80\n",
    "print \"1 visibleNodes: ratio over network and adversarial\\n\"\n",
    "\n",
    "print data[data['#visibleNodes'].isin([1])].groupby(['network', '#adversarial'])['ratio'].mean()\n",
    "print\n",
    "print '*' * 80"
   ]
  },
  {
   "cell_type": "code",
   "execution_count": 24,
   "metadata": {
    "collapsed": false
   },
   "outputs": [
    {
     "name": "stdout",
     "output_type": "stream",
     "text": [
      "********************************************************************************\n",
      "2 visibleNodes: ratio over network and adversarial\n",
      "\n",
      "network             #adversarial\n",
      "Barabasi-Albert     0               0\n",
      "                    2               0\n",
      "                    5               0\n",
      "Erdos-Renyi-dense   0               0\n",
      "                    2               0\n",
      "                    5               0\n",
      "Erdos-Renyi-sparse  0               0\n",
      "                    2               0\n",
      "                    5               0\n",
      "Name: ratio, dtype: int64\n",
      "\n",
      "********************************************************************************\n"
     ]
    }
   ],
   "source": [
    "print '*' * 80\n",
    "print \"2 visibleNodes: ratio over network and adversarial\\n\"\n",
    "\n",
    "print data[data['#visibleNodes'].isin([2])].groupby(['network', '#adversarial'])['ratio'].mean()\n",
    "print\n",
    "print '*' * 80"
   ]
  },
  {
   "cell_type": "code",
   "execution_count": 26,
   "metadata": {
    "collapsed": false,
    "scrolled": true
   },
   "outputs": [
    {
     "name": "stdout",
     "output_type": "stream",
     "text": [
      "********************************************************************************\n",
      "5 visibleNodes: ratio over network and adversarial\n",
      "\n",
      "network             #adversarial\n",
      "Barabasi-Albert     0               0\n",
      "                    2               0\n",
      "                    5               0\n",
      "Erdos-Renyi-dense   0               0\n",
      "                    2               0\n",
      "                    5               0\n",
      "Erdos-Renyi-sparse  0               0\n",
      "                    2               0\n",
      "                    5               0\n",
      "Name: ratio, dtype: int64\n",
      "\n",
      "********************************************************************************\n"
     ]
    }
   ],
   "source": [
    "print '*' * 80\n",
    "print \"5 visibleNodes: ratio over network and adversarial\\n\"\n",
    "\n",
    "print data[data['#visibleNodes'].isin([5])].groupby(['network', '#adversarial'])['ratio'].mean()\n",
    "print\n",
    "print '*' * 80"
   ]
  },
  {
   "cell_type": "code",
   "execution_count": null,
   "metadata": {
    "collapsed": true
   },
   "outputs": [],
   "source": []
  },
  {
   "cell_type": "code",
   "execution_count": null,
   "metadata": {
    "collapsed": true
   },
   "outputs": [],
   "source": []
  },
  {
   "cell_type": "code",
   "execution_count": null,
   "metadata": {
    "collapsed": true
   },
   "outputs": [],
   "source": []
  }
 ],
 "metadata": {
  "kernelspec": {
   "display_name": "Python 2",
   "language": "python",
   "name": "python2"
  },
  "language_info": {
   "codemirror_mode": {
    "name": "ipython",
    "version": 2
   },
   "file_extension": ".py",
   "mimetype": "text/x-python",
   "name": "python",
   "nbconvert_exporter": "python",
   "pygments_lexer": "ipython2",
   "version": "2.7.11"
  }
 },
 "nbformat": 4,
 "nbformat_minor": 0
}
