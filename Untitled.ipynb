{
 "cells": [
  {
   "cell_type": "code",
   "execution_count": 80,
   "metadata": {
    "collapsed": true
   },
   "outputs": [],
   "source": [
    "import pandas as pd"
   ]
  },
  {
   "cell_type": "code",
   "execution_count": 81,
   "metadata": {
    "collapsed": false
   },
   "outputs": [],
   "source": [
    "data = pd.read_csv('result/consensus_inertia=0.90.csv', sep=',')\n",
    "time = pd.read_csv('result/time_inertia=0.90.csv', sep=',')"
   ]
  },
  {
   "cell_type": "markdown",
   "metadata": {},
   "source": [
    "\n",
    "\n",
    "\n"
   ]
  },
  {
   "cell_type": "code",
   "execution_count": 95,
   "metadata": {
    "collapsed": false
   },
   "outputs": [
    {
     "name": "stdout",
     "output_type": "stream",
     "text": [
      "********************************************************************************\n",
      "ratio over adversaries\n",
      "\n",
      "#adversarial\n",
      "0    0.717171\n",
      "2    0.504233\n",
      "5    0.230671\n",
      "Name: ratio, dtype: float64\n",
      "\n",
      "\n",
      "********************************************************************************\n"
     ]
    }
   ],
   "source": [
    "print '*' * 80\n",
    "\n",
    "print \"ratio over adversaries\\n\"\n",
    "print data.groupby('#adversarial')['ratio'].mean()\n",
    "print\n",
    "print\n",
    "\n",
    "\n",
    "\n",
    "print '*' * 80"
   ]
  },
  {
   "cell_type": "code",
   "execution_count": 96,
   "metadata": {
    "collapsed": false
   },
   "outputs": [
    {
     "name": "stdout",
     "output_type": "stream",
     "text": [
      "********************************************************************************\n",
      "ratio over network\n",
      "\n",
      "network\n",
      "Barabasi-Albert       0.736425\n",
      "Erdos-Renyi-dense     0.545350\n",
      "Erdos-Renyi-sparse    0.170300\n",
      "Name: ratio, dtype: float64\n",
      "\n",
      "\n",
      "********************************************************************************\n"
     ]
    }
   ],
   "source": [
    "print '*' * 80\n",
    "\n",
    "print \"ratio over network\\n\"\n",
    "print data.groupby('network')['ratio'].mean()\n",
    "print\n",
    "print\n",
    "\n",
    "\n",
    "\n",
    "print '*' * 80"
   ]
  },
  {
   "cell_type": "code",
   "execution_count": 100,
   "metadata": {
    "collapsed": false
   },
   "outputs": [
    {
     "name": "stdout",
     "output_type": "stream",
     "text": [
      "********************************************************************************\n",
      "ratio over visibleNodes\n",
      "\n",
      "#visibleNodes\n",
      "0    0.496994\n",
      "1    0.458667\n",
      "2    0.469628\n",
      "5    0.510811\n",
      "Name: ratio, dtype: float64\n",
      "\n",
      "\n",
      "********************************************************************************\n"
     ]
    }
   ],
   "source": [
    "print '*' * 80\n",
    "\n",
    "print \"ratio over visibleNodes\\n\"\n",
    "print data.groupby('#visibleNodes')['ratio'].mean()\n",
    "print\n",
    "print\n",
    "\n",
    "\n",
    "print '*' * 80"
   ]
  },
  {
   "cell_type": "code",
   "execution_count": 61,
   "metadata": {
    "collapsed": false
   },
   "outputs": [
    {
     "name": "stdout",
     "output_type": "stream",
     "text": [
      "********************************************************************************\n",
      "ratio over adversaries and network\n",
      "\n",
      "#adversarial  network           \n",
      "0             Barabasi-Albert       0.984800\n",
      "              Erdos-Renyi-dense     0.828175\n",
      "              Erdos-Renyi-sparse    0.338537\n",
      "2             Barabasi-Albert       0.826087\n",
      "              Erdos-Renyi-dense     0.554638\n",
      "              Erdos-Renyi-sparse    0.131975\n",
      "5             Barabasi-Albert       0.398388\n",
      "              Erdos-Renyi-dense     0.253238\n",
      "              Erdos-Renyi-sparse    0.040387\n",
      "Name: ratio, dtype: float64\n",
      "\n",
      "********************************************************************************\n"
     ]
    }
   ],
   "source": [
    "print '*' * 80\n",
    "print \"ratio over adversaries and network\\n\"\n",
    "\n",
    "print data.groupby(['#adversarial', 'network'])['ratio'].mean()\n",
    "print\n",
    "print '*' * 80"
   ]
  },
  {
   "cell_type": "code",
   "execution_count": 98,
   "metadata": {
    "collapsed": false
   },
   "outputs": [
    {
     "name": "stdout",
     "output_type": "stream",
     "text": [
      "********************************************************************************\n",
      "ratio over adversaries and visibleNodes\n",
      "\n",
      "#adversarial  #visibleNodes\n",
      "0             0                0.739550\n",
      "              1                0.691200\n",
      "              2                0.700717\n",
      "              5                0.737217\n",
      "2             0                0.517067\n",
      "              1                0.476650\n",
      "              2                0.488000\n",
      "              5                0.535217\n",
      "5             0                0.234367\n",
      "              1                0.208150\n",
      "              2                0.220167\n",
      "              5                0.260000\n",
      "Name: ratio, dtype: float64\n",
      "\n",
      "********************************************************************************\n"
     ]
    }
   ],
   "source": [
    "print '*' * 80\n",
    "print \"ratio over adversaries and visibleNodes\\n\"\n",
    "\n",
    "print data.groupby(['#adversarial', '#visibleNodes'])['ratio'].mean()\n",
    "print\n",
    "print '*' * 80"
   ]
  },
  {
   "cell_type": "code",
   "execution_count": 63,
   "metadata": {
    "collapsed": false
   },
   "outputs": [
    {
     "name": "stdout",
     "output_type": "stream",
     "text": [
      "********************************************************************************\n",
      "ratio over network and adversaries\n",
      "\n",
      "network             #adversarial\n",
      "Barabasi-Albert     0               0.984800\n",
      "                    2               0.826087\n",
      "                    5               0.398388\n",
      "Erdos-Renyi-dense   0               0.828175\n",
      "                    2               0.554638\n",
      "                    5               0.253238\n",
      "Erdos-Renyi-sparse  0               0.338537\n",
      "                    2               0.131975\n",
      "                    5               0.040387\n",
      "Name: ratio, dtype: float64\n",
      "\n",
      "********************************************************************************\n"
     ]
    }
   ],
   "source": [
    "print '*' * 80\n",
    "print \"ratio over network and adversaries\\n\"\n",
    "\n",
    "print data.groupby(['network', '#adversarial'])['ratio'].mean()\n",
    "print\n",
    "print '*' * 80"
   ]
  },
  {
   "cell_type": "code",
   "execution_count": 99,
   "metadata": {
    "collapsed": false,
    "scrolled": true
   },
   "outputs": [
    {
     "name": "stdout",
     "output_type": "stream",
     "text": [
      "********************************************************************************\n",
      "ratio over network and visibleNodes\n",
      "\n",
      "network             #visibleNodes\n",
      "Barabasi-Albert     0                0.745900\n",
      "                    1                0.714667\n",
      "                    2                0.721850\n",
      "                    5                0.763283\n",
      "Erdos-Renyi-dense   0                0.568833\n",
      "                    1                0.508833\n",
      "                    2                0.526967\n",
      "                    5                0.576767\n",
      "Erdos-Renyi-sparse  0                0.176250\n",
      "                    1                0.152500\n",
      "                    2                0.160067\n",
      "                    5                0.192383\n",
      "Name: ratio, dtype: float64\n",
      "\n",
      "********************************************************************************\n"
     ]
    }
   ],
   "source": [
    "print '*' * 80\n",
    "print \"ratio over network and visibleNodes\\n\"\n",
    "\n",
    "print data.groupby(['network', '#visibleNodes'])['ratio'].mean()\n",
    "print\n",
    "print '*' * 80"
   ]
  },
  {
   "cell_type": "code",
   "execution_count": 65,
   "metadata": {
    "collapsed": false
   },
   "outputs": [
    {
     "name": "stdout",
     "output_type": "stream",
     "text": [
      "********************************************************************************\n",
      "ratio over visibleNodes and adversaries\n",
      "\n",
      "#visibleNodes  #adversarial\n",
      "0              0               0.739550\n",
      "               2               0.517067\n",
      "               5               0.234367\n",
      "1              0               0.691200\n",
      "               2               0.476650\n",
      "               5               0.208150\n",
      "2              0               0.700717\n",
      "               2               0.488000\n",
      "               5               0.220167\n",
      "5              0               0.737217\n",
      "               2               0.535217\n",
      "               5               0.260000\n",
      "Name: ratio, dtype: float64\n",
      "\n",
      "********************************************************************************\n"
     ]
    }
   ],
   "source": [
    "print '*' * 80\n",
    "print \"ratio over visibleNodes and adversaries\\n\"\n",
    "\n",
    "print data.groupby(['#visibleNodes', '#adversarial'])['ratio'].mean()\n",
    "print\n",
    "print '*' * 80"
   ]
  },
  {
   "cell_type": "code",
   "execution_count": 66,
   "metadata": {
    "collapsed": false
   },
   "outputs": [
    {
     "name": "stdout",
     "output_type": "stream",
     "text": [
      "********************************************************************************\n",
      "ratio over visibleNodes and network\n",
      "\n",
      "#visibleNodes  network           \n",
      "0              Barabasi-Albert       0.745900\n",
      "               Erdos-Renyi-dense     0.568833\n",
      "               Erdos-Renyi-sparse    0.176250\n",
      "1              Barabasi-Albert       0.714667\n",
      "               Erdos-Renyi-dense     0.508833\n",
      "               Erdos-Renyi-sparse    0.152500\n",
      "2              Barabasi-Albert       0.721850\n",
      "               Erdos-Renyi-dense     0.526967\n",
      "               Erdos-Renyi-sparse    0.160067\n",
      "5              Barabasi-Albert       0.763283\n",
      "               Erdos-Renyi-dense     0.576767\n",
      "               Erdos-Renyi-sparse    0.192383\n",
      "Name: ratio, dtype: float64\n",
      "\n",
      "********************************************************************************\n"
     ]
    }
   ],
   "source": [
    "print '*' * 80\n",
    "print \"ratio over visibleNodes and network\\n\"\n",
    "\n",
    "print data.groupby(['#visibleNodes', 'network'])['ratio'].mean()\n",
    "print\n",
    "print '*' * 80"
   ]
  },
  {
   "cell_type": "code",
   "execution_count": 89,
   "metadata": {
    "collapsed": false
   },
   "outputs": [
    {
     "name": "stdout",
     "output_type": "stream",
     "text": [
      "********************************************************************************\n",
      "0 adversaries: ratio over visibleNodes and network\n",
      "\n",
      "network             #visibleNodes\n",
      "Barabasi-Albert     0                0.99805\n",
      "                    1                0.97670\n",
      "                    2                0.97655\n",
      "                    5                0.98790\n",
      "Erdos-Renyi-dense   0                0.87100\n",
      "                    1                0.79400\n",
      "                    2                0.80585\n",
      "                    5                0.84185\n",
      "Erdos-Renyi-sparse  0                0.34960\n",
      "                    1                0.30290\n",
      "                    2                0.31975\n",
      "                    5                0.38190\n",
      "Name: ratio, dtype: float64\n",
      "\n",
      "********************************************************************************\n"
     ]
    }
   ],
   "source": [
    "print '*' * 80\n",
    "print \"0 adversaries: ratio over visibleNodes and network\\n\"\n",
    "\n",
    "print data[data['#adversarial'].isin([0])].groupby(['network', '#visibleNodes'])['ratio'].mean()\n",
    "print\n",
    "print '*' * 80"
   ]
  },
  {
   "cell_type": "code",
   "execution_count": 90,
   "metadata": {
    "collapsed": false
   },
   "outputs": [
    {
     "name": "stdout",
     "output_type": "stream",
     "text": [
      "********************************************************************************\n",
      "2 adversaries: ratio over visibleNodes and network\n",
      "\n",
      "network             #visibleNodes\n",
      "Barabasi-Albert     0                0.83485\n",
      "                    1                0.79895\n",
      "                    2                0.80635\n",
      "                    5                0.86420\n",
      "Erdos-Renyi-dense   0                0.57945\n",
      "                    1                0.51380\n",
      "                    2                0.53380\n",
      "                    5                0.59150\n",
      "Erdos-Renyi-sparse  0                0.13690\n",
      "                    1                0.11720\n",
      "                    2                0.12385\n",
      "                    5                0.14995\n",
      "Name: ratio, dtype: float64\n",
      "\n",
      "********************************************************************************\n"
     ]
    }
   ],
   "source": [
    "print '*' * 80\n",
    "print \"2 adversaries: ratio over visibleNodes and network\\n\"\n",
    "\n",
    "print data[data['#adversarial'].isin([2])].groupby(['network', '#visibleNodes'])['ratio'].mean()\n",
    "print\n",
    "print '*' * 80"
   ]
  },
  {
   "cell_type": "code",
   "execution_count": 91,
   "metadata": {
    "collapsed": false
   },
   "outputs": [
    {
     "name": "stdout",
     "output_type": "stream",
     "text": [
      "********************************************************************************\n",
      "5 adversaries: ratio over visibleNodes and network\n",
      "\n",
      "network             #visibleNodes\n",
      "Barabasi-Albert     0                0.40480\n",
      "                    1                0.36835\n",
      "                    2                0.38265\n",
      "                    5                0.43775\n",
      "Erdos-Renyi-dense   0                0.25605\n",
      "                    1                0.21870\n",
      "                    2                0.24125\n",
      "                    5                0.29695\n",
      "Erdos-Renyi-sparse  0                0.04225\n",
      "                    1                0.03740\n",
      "                    2                0.03660\n",
      "                    5                0.04530\n",
      "Name: ratio, dtype: float64\n",
      "\n",
      "********************************************************************************\n"
     ]
    }
   ],
   "source": [
    "print '*' * 80\n",
    "print \"5 adversaries: ratio over visibleNodes and network\\n\"\n",
    "\n",
    "print data[data['#adversarial'].isin([5])].groupby(['network', '#visibleNodes'])['ratio'].mean()\n",
    "print\n",
    "print '*' * 80"
   ]
  },
  {
   "cell_type": "code",
   "execution_count": 92,
   "metadata": {
    "collapsed": false
   },
   "outputs": [
    {
     "name": "stdout",
     "output_type": "stream",
     "text": [
      "********************************************************************************\n",
      "Barabasi-Albert: ratio over visibleNodes and adversarial\n",
      "\n",
      "#adversarial  #visibleNodes\n",
      "0             0                0.99805\n",
      "              1                0.97670\n",
      "              2                0.97655\n",
      "              5                0.98790\n",
      "2             0                0.83485\n",
      "              1                0.79895\n",
      "              2                0.80635\n",
      "              5                0.86420\n",
      "5             0                0.40480\n",
      "              1                0.36835\n",
      "              2                0.38265\n",
      "              5                0.43775\n",
      "Name: ratio, dtype: float64\n",
      "\n",
      "********************************************************************************\n"
     ]
    }
   ],
   "source": [
    "print '*' * 80\n",
    "print \"Barabasi-Albert: ratio over visibleNodes and adversarial\\n\"\n",
    "\n",
    "print data[data['network'].isin(['Barabasi-Albert'])].groupby(['#adversarial', '#visibleNodes'])['ratio'].mean()\n",
    "print\n",
    "print '*' * 80"
   ]
  },
  {
   "cell_type": "code",
   "execution_count": 93,
   "metadata": {
    "collapsed": false
   },
   "outputs": [
    {
     "name": "stdout",
     "output_type": "stream",
     "text": [
      "********************************************************************************\n",
      "Erdos-Renyi-dense: ratio over visibleNodes and adversarial\n",
      "\n",
      "#adversarial  #visibleNodes\n",
      "0             0                0.87100\n",
      "              1                0.79400\n",
      "              2                0.80585\n",
      "              5                0.84185\n",
      "2             0                0.57945\n",
      "              1                0.51380\n",
      "              2                0.53380\n",
      "              5                0.59150\n",
      "5             0                0.25605\n",
      "              1                0.21870\n",
      "              2                0.24125\n",
      "              5                0.29695\n",
      "Name: ratio, dtype: float64\n",
      "\n",
      "********************************************************************************\n"
     ]
    }
   ],
   "source": [
    "print '*' * 80\n",
    "print \"Erdos-Renyi-dense: ratio over visibleNodes and adversarial\\n\"\n",
    "\n",
    "print data[data['network'].isin(['Erdos-Renyi-dense'])].groupby(['#adversarial', '#visibleNodes'])['ratio'].mean()\n",
    "print\n",
    "print '*' * 80"
   ]
  },
  {
   "cell_type": "code",
   "execution_count": 94,
   "metadata": {
    "collapsed": false
   },
   "outputs": [
    {
     "name": "stdout",
     "output_type": "stream",
     "text": [
      "********************************************************************************\n",
      "Erdos-Renyi-sparse: ratio over visibleNodes and adversarial\n",
      "\n",
      "#adversarial  #visibleNodes\n",
      "0             0                0.34960\n",
      "              1                0.30290\n",
      "              2                0.31975\n",
      "              5                0.38190\n",
      "2             0                0.13690\n",
      "              1                0.11720\n",
      "              2                0.12385\n",
      "              5                0.14995\n",
      "5             0                0.04225\n",
      "              1                0.03740\n",
      "              2                0.03660\n",
      "              5                0.04530\n",
      "Name: ratio, dtype: float64\n",
      "\n",
      "********************************************************************************\n"
     ]
    }
   ],
   "source": [
    "print '*' * 80\n",
    "print \"Erdos-Renyi-sparse: ratio over visibleNodes and adversarial\\n\"\n",
    "\n",
    "print data[data['network'].isin(['Erdos-Renyi-sparse'])].groupby(['#adversarial', '#visibleNodes'])['ratio'].mean()\n",
    "print\n",
    "print '*' * 80"
   ]
  },
  {
   "cell_type": "code",
   "execution_count": 73,
   "metadata": {
    "collapsed": false
   },
   "outputs": [
    {
     "name": "stdout",
     "output_type": "stream",
     "text": [
      "********************************************************************************\n",
      "0 visibleNodes: ratio over network and adversarial\n",
      "\n",
      "network             #adversarial\n",
      "Barabasi-Albert     0               0.99805\n",
      "                    2               0.83485\n",
      "                    5               0.40480\n",
      "Erdos-Renyi-dense   0               0.87100\n",
      "                    2               0.57945\n",
      "                    5               0.25605\n",
      "Erdos-Renyi-sparse  0               0.34960\n",
      "                    2               0.13690\n",
      "                    5               0.04225\n",
      "Name: ratio, dtype: float64\n",
      "\n",
      "********************************************************************************\n"
     ]
    }
   ],
   "source": [
    "print '*' * 80\n",
    "print \"0 visibleNodes: ratio over network and adversarial\\n\"\n",
    "\n",
    "print data[data['#visibleNodes'].isin([0])].groupby(['network', '#adversarial'])['ratio'].mean()\n",
    "print\n",
    "print '*' * 80"
   ]
  },
  {
   "cell_type": "code",
   "execution_count": 74,
   "metadata": {
    "collapsed": false
   },
   "outputs": [
    {
     "name": "stdout",
     "output_type": "stream",
     "text": [
      "********************************************************************************\n",
      "1 visibleNodes: ratio over network and adversarial\n",
      "\n",
      "network             #adversarial\n",
      "Barabasi-Albert     0               0.97670\n",
      "                    2               0.79895\n",
      "                    5               0.36835\n",
      "Erdos-Renyi-dense   0               0.79400\n",
      "                    2               0.51380\n",
      "                    5               0.21870\n",
      "Erdos-Renyi-sparse  0               0.30290\n",
      "                    2               0.11720\n",
      "                    5               0.03740\n",
      "Name: ratio, dtype: float64\n",
      "\n",
      "********************************************************************************\n"
     ]
    }
   ],
   "source": [
    "print '*' * 80\n",
    "print \"1 visibleNodes: ratio over network and adversarial\\n\"\n",
    "\n",
    "print data[data['#visibleNodes'].isin([1])].groupby(['network', '#adversarial'])['ratio'].mean()\n",
    "print\n",
    "print '*' * 80"
   ]
  },
  {
   "cell_type": "code",
   "execution_count": 75,
   "metadata": {
    "collapsed": false
   },
   "outputs": [
    {
     "name": "stdout",
     "output_type": "stream",
     "text": [
      "********************************************************************************\n",
      "2 visibleNodes: ratio over network and adversarial\n",
      "\n",
      "network             #adversarial\n",
      "Barabasi-Albert     0               0.97655\n",
      "                    2               0.80635\n",
      "                    5               0.38265\n",
      "Erdos-Renyi-dense   0               0.80585\n",
      "                    2               0.53380\n",
      "                    5               0.24125\n",
      "Erdos-Renyi-sparse  0               0.31975\n",
      "                    2               0.12385\n",
      "                    5               0.03660\n",
      "Name: ratio, dtype: float64\n",
      "\n",
      "********************************************************************************\n"
     ]
    }
   ],
   "source": [
    "print '*' * 80\n",
    "print \"2 visibleNodes: ratio over network and adversarial\\n\"\n",
    "\n",
    "print data[data['#visibleNodes'].isin([2])].groupby(['network', '#adversarial'])['ratio'].mean()\n",
    "print\n",
    "print '*' * 80"
   ]
  },
  {
   "cell_type": "code",
   "execution_count": 76,
   "metadata": {
    "collapsed": false,
    "scrolled": true
   },
   "outputs": [
    {
     "name": "stdout",
     "output_type": "stream",
     "text": [
      "********************************************************************************\n",
      "5 visibleNodes: ratio over network and adversarial\n",
      "\n",
      "network             #adversarial\n",
      "Barabasi-Albert     0               0.98790\n",
      "                    2               0.86420\n",
      "                    5               0.43775\n",
      "Erdos-Renyi-dense   0               0.84185\n",
      "                    2               0.59150\n",
      "                    5               0.29695\n",
      "Erdos-Renyi-sparse  0               0.38190\n",
      "                    2               0.14995\n",
      "                    5               0.04530\n",
      "Name: ratio, dtype: float64\n",
      "\n",
      "********************************************************************************\n"
     ]
    }
   ],
   "source": [
    "print '*' * 80\n",
    "print \"5 visibleNodes: ratio over network and adversarial\\n\"\n",
    "\n",
    "print data[data['#visibleNodes'].isin([5])].groupby(['network', '#adversarial'])['ratio'].mean()\n",
    "print\n",
    "print '*' * 80"
   ]
  },
  {
   "cell_type": "code",
   "execution_count": null,
   "metadata": {
    "collapsed": true
   },
   "outputs": [],
   "source": []
  }
 ],
 "metadata": {
  "kernelspec": {
   "display_name": "Python 2",
   "language": "python",
   "name": "python2"
  },
  "language_info": {
   "codemirror_mode": {
    "name": "ipython",
    "version": 2
   },
   "file_extension": ".py",
   "mimetype": "text/x-python",
   "name": "python",
   "nbconvert_exporter": "python",
   "pygments_lexer": "ipython2",
   "version": "2.7.11"
  }
 },
 "nbformat": 4,
 "nbformat_minor": 0
}
