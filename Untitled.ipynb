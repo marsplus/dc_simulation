{
 "cells": [
  {
   "cell_type": "code",
   "execution_count": 1,
   "metadata": {
    "collapsed": true
   },
   "outputs": [],
   "source": [
    "import pandas as pd"
   ]
  },
  {
   "cell_type": "code",
   "execution_count": 96,
   "metadata": {
    "collapsed": true
   },
   "outputs": [],
   "source": [
    "data = pd.read_csv('result/inertia=0.70.csv', sep=',')"
   ]
  },
  {
   "cell_type": "markdown",
   "metadata": {},
   "source": [
    "\n",
    "\n",
    "\n"
   ]
  },
  {
   "cell_type": "code",
   "execution_count": 97,
   "metadata": {
    "collapsed": false
   },
   "outputs": [
    {
     "name": "stdout",
     "output_type": "stream",
     "text": [
      "********************************************************************************\n",
      "ratio over adversaries\n",
      "\n",
      "#adversarial\n",
      "0    0.999792\n",
      "2    0.677333\n",
      "5    0.810233\n",
      "Name: ratio, dtype: float64\n",
      "\n",
      "********************************************************************************\n"
     ]
    }
   ],
   "source": [
    "print '*' * 80\n",
    "print \"ratio over adversaries\\n\"\n",
    "\n",
    "print data.groupby('#adversarial')['ratio'].mean()\n",
    "print\n",
    "print '*' * 80"
   ]
  },
  {
   "cell_type": "code",
   "execution_count": 98,
   "metadata": {
    "collapsed": false
   },
   "outputs": [
    {
     "name": "stdout",
     "output_type": "stream",
     "text": [
      "********************************************************************************\n",
      "ratio over network\n",
      "\n",
      "network\n",
      "Barabasi-Albert       0.788975\n",
      "Erdos-Renyi-dense     0.853633\n",
      "Erdos-Renyi-sparse    0.844750\n",
      "Name: ratio, dtype: float64\n",
      "\n",
      "********************************************************************************\n"
     ]
    }
   ],
   "source": [
    "print '*' * 80\n",
    "print \"ratio over network\\n\"\n",
    "\n",
    "print data.groupby('network')['ratio'].mean()\n",
    "print\n",
    "print '*' * 80"
   ]
  },
  {
   "cell_type": "code",
   "execution_count": 99,
   "metadata": {
    "collapsed": false
   },
   "outputs": [
    {
     "name": "stdout",
     "output_type": "stream",
     "text": [
      "********************************************************************************\n",
      "ratio over visibleNodes\n",
      "\n",
      "#visibleNodes\n",
      "0    0.813489\n",
      "1    0.818278\n",
      "2    0.827222\n",
      "5    0.857489\n",
      "Name: ratio, dtype: float64\n",
      "\n",
      "********************************************************************************\n"
     ]
    }
   ],
   "source": [
    "print '*' * 80\n",
    "print \"ratio over visibleNodes\\n\"\n",
    "\n",
    "print data.groupby('#visibleNodes')['ratio'].mean()\n",
    "print\n",
    "print '*' * 80"
   ]
  },
  {
   "cell_type": "code",
   "execution_count": 100,
   "metadata": {
    "collapsed": false
   },
   "outputs": [
    {
     "name": "stdout",
     "output_type": "stream",
     "text": [
      "********************************************************************************\n",
      "ratio over adversaries and network\n",
      "\n",
      "#adversarial  network           \n",
      "0             Barabasi-Albert       0.999975\n",
      "              Erdos-Renyi-dense     0.999925\n",
      "              Erdos-Renyi-sparse    0.999475\n",
      "2             Barabasi-Albert       0.568475\n",
      "              Erdos-Renyi-dense     0.766025\n",
      "              Erdos-Renyi-sparse    0.697500\n",
      "5             Barabasi-Albert       0.798475\n",
      "              Erdos-Renyi-dense     0.794950\n",
      "              Erdos-Renyi-sparse    0.837275\n",
      "Name: ratio, dtype: float64\n",
      "\n",
      "********************************************************************************\n"
     ]
    }
   ],
   "source": [
    "print '*' * 80\n",
    "print \"ratio over adversaries and network\\n\"\n",
    "\n",
    "print data.groupby(['#adversarial', 'network'])['ratio'].mean()\n",
    "print\n",
    "print '*' * 80"
   ]
  },
  {
   "cell_type": "code",
   "execution_count": 101,
   "metadata": {
    "collapsed": false
   },
   "outputs": [
    {
     "name": "stdout",
     "output_type": "stream",
     "text": [
      "********************************************************************************\n",
      "ratio over adversaries and visibleNodes\n",
      "\n",
      "#adversarial  #visibleNodes\n",
      "0             0                1.000000\n",
      "              1                1.000000\n",
      "              2                1.000000\n",
      "              5                0.999167\n",
      "2             0                0.643700\n",
      "              1                0.657567\n",
      "              2                0.673567\n",
      "              5                0.734500\n",
      "5             0                0.796767\n",
      "              1                0.797267\n",
      "              2                0.808100\n",
      "              5                0.838800\n",
      "Name: ratio, dtype: float64\n",
      "\n",
      "********************************************************************************\n"
     ]
    }
   ],
   "source": [
    "print '*' * 80\n",
    "print \"ratio over adversaries and visibleNodes\\n\"\n",
    "\n",
    "print data.groupby(['#adversarial', '#visibleNodes'])['ratio'].mean()\n",
    "print\n",
    "print '*' * 80"
   ]
  },
  {
   "cell_type": "code",
   "execution_count": 102,
   "metadata": {
    "collapsed": false
   },
   "outputs": [
    {
     "name": "stdout",
     "output_type": "stream",
     "text": [
      "********************************************************************************\n",
      "ratio over network and adversaries\n",
      "\n",
      "network             #adversarial\n",
      "Barabasi-Albert     0               0.999975\n",
      "                    2               0.568475\n",
      "                    5               0.798475\n",
      "Erdos-Renyi-dense   0               0.999925\n",
      "                    2               0.766025\n",
      "                    5               0.794950\n",
      "Erdos-Renyi-sparse  0               0.999475\n",
      "                    2               0.697500\n",
      "                    5               0.837275\n",
      "Name: ratio, dtype: float64\n",
      "\n",
      "********************************************************************************\n"
     ]
    }
   ],
   "source": [
    "print '*' * 80\n",
    "print \"ratio over network and adversaries\\n\"\n",
    "\n",
    "print data.groupby(['network', '#adversarial'])['ratio'].mean()\n",
    "print\n",
    "print '*' * 80"
   ]
  },
  {
   "cell_type": "code",
   "execution_count": 103,
   "metadata": {
    "collapsed": false
   },
   "outputs": [
    {
     "name": "stdout",
     "output_type": "stream",
     "text": [
      "********************************************************************************\n",
      "ratio over network and visibleNodes\n",
      "\n",
      "network             #visibleNodes\n",
      "Barabasi-Albert     0                0.769833\n",
      "                    1                0.772900\n",
      "                    2                0.782467\n",
      "                    5                0.830700\n",
      "Erdos-Renyi-dense   0                0.837800\n",
      "                    1                0.841267\n",
      "                    2                0.853167\n",
      "                    5                0.882300\n",
      "Erdos-Renyi-sparse  0                0.832833\n",
      "                    1                0.840667\n",
      "                    2                0.846033\n",
      "                    5                0.859467\n",
      "Name: ratio, dtype: float64\n",
      "\n",
      "********************************************************************************\n"
     ]
    }
   ],
   "source": [
    "print '*' * 80\n",
    "print \"ratio over network and visibleNodes\\n\"\n",
    "\n",
    "print data.groupby(['network', '#visibleNodes'])['ratio'].mean()\n",
    "print\n",
    "print '*' * 80"
   ]
  },
  {
   "cell_type": "code",
   "execution_count": 104,
   "metadata": {
    "collapsed": false
   },
   "outputs": [
    {
     "name": "stdout",
     "output_type": "stream",
     "text": [
      "********************************************************************************\n",
      "ratio over visibleNodes and adversaries\n",
      "\n",
      "#visibleNodes  #adversarial\n",
      "0              0               1.000000\n",
      "               2               0.643700\n",
      "               5               0.796767\n",
      "1              0               1.000000\n",
      "               2               0.657567\n",
      "               5               0.797267\n",
      "2              0               1.000000\n",
      "               2               0.673567\n",
      "               5               0.808100\n",
      "5              0               0.999167\n",
      "               2               0.734500\n",
      "               5               0.838800\n",
      "Name: ratio, dtype: float64\n",
      "\n",
      "********************************************************************************\n"
     ]
    }
   ],
   "source": [
    "print '*' * 80\n",
    "print \"ratio over visibleNodes and adversaries\\n\"\n",
    "\n",
    "print data.groupby(['#visibleNodes', '#adversarial'])['ratio'].mean()\n",
    "print\n",
    "print '*' * 80"
   ]
  },
  {
   "cell_type": "code",
   "execution_count": 105,
   "metadata": {
    "collapsed": false
   },
   "outputs": [
    {
     "name": "stdout",
     "output_type": "stream",
     "text": [
      "********************************************************************************\n",
      "ratio over visibleNodes and network\n",
      "\n",
      "#visibleNodes  network           \n",
      "0              Barabasi-Albert       0.769833\n",
      "               Erdos-Renyi-dense     0.837800\n",
      "               Erdos-Renyi-sparse    0.832833\n",
      "1              Barabasi-Albert       0.772900\n",
      "               Erdos-Renyi-dense     0.841267\n",
      "               Erdos-Renyi-sparse    0.840667\n",
      "2              Barabasi-Albert       0.782467\n",
      "               Erdos-Renyi-dense     0.853167\n",
      "               Erdos-Renyi-sparse    0.846033\n",
      "5              Barabasi-Albert       0.830700\n",
      "               Erdos-Renyi-dense     0.882300\n",
      "               Erdos-Renyi-sparse    0.859467\n",
      "Name: ratio, dtype: float64\n",
      "\n",
      "********************************************************************************\n"
     ]
    }
   ],
   "source": [
    "print '*' * 80\n",
    "print \"ratio over visibleNodes and network\\n\"\n",
    "\n",
    "print data.groupby(['#visibleNodes', 'network'])['ratio'].mean()\n",
    "print\n",
    "print '*' * 80"
   ]
  },
  {
   "cell_type": "code",
   "execution_count": 106,
   "metadata": {
    "collapsed": false
   },
   "outputs": [
    {
     "name": "stdout",
     "output_type": "stream",
     "text": [
      "********************************************************************************\n",
      "0 adversaries: ratio over visibleNodes and network\n",
      "\n",
      "#visibleNodes  network           \n",
      "0              Barabasi-Albert       1.0000\n",
      "               Erdos-Renyi-dense     1.0000\n",
      "               Erdos-Renyi-sparse    1.0000\n",
      "1              Barabasi-Albert       1.0000\n",
      "               Erdos-Renyi-dense     1.0000\n",
      "               Erdos-Renyi-sparse    1.0000\n",
      "2              Barabasi-Albert       1.0000\n",
      "               Erdos-Renyi-dense     1.0000\n",
      "               Erdos-Renyi-sparse    1.0000\n",
      "5              Barabasi-Albert       0.9999\n",
      "               Erdos-Renyi-dense     0.9997\n",
      "               Erdos-Renyi-sparse    0.9979\n",
      "Name: ratio, dtype: float64\n",
      "\n",
      "********************************************************************************\n"
     ]
    }
   ],
   "source": [
    "print '*' * 80\n",
    "print \"0 adversaries: ratio over visibleNodes and network\\n\"\n",
    "\n",
    "print data[data['#adversarial'].isin([0])].groupby(['#visibleNodes', 'network'])['ratio'].mean()\n",
    "print\n",
    "print '*' * 80"
   ]
  },
  {
   "cell_type": "code",
   "execution_count": 107,
   "metadata": {
    "collapsed": false
   },
   "outputs": [
    {
     "name": "stdout",
     "output_type": "stream",
     "text": [
      "********************************************************************************\n",
      "2 adversaries: ratio over visibleNodes and network\n",
      "\n",
      "#visibleNodes  network           \n",
      "0              Barabasi-Albert       0.4987\n",
      "               Erdos-Renyi-dense     0.7544\n",
      "               Erdos-Renyi-sparse    0.6780\n",
      "1              Barabasi-Albert       0.5398\n",
      "               Erdos-Renyi-dense     0.7486\n",
      "               Erdos-Renyi-sparse    0.6843\n",
      "2              Barabasi-Albert       0.5654\n",
      "               Erdos-Renyi-dense     0.7582\n",
      "               Erdos-Renyi-sparse    0.6971\n",
      "5              Barabasi-Albert       0.6700\n",
      "               Erdos-Renyi-dense     0.8029\n",
      "               Erdos-Renyi-sparse    0.7306\n",
      "Name: ratio, dtype: float64\n",
      "\n",
      "********************************************************************************\n"
     ]
    }
   ],
   "source": [
    "print '*' * 80\n",
    "print \"2 adversaries: ratio over visibleNodes and network\\n\"\n",
    "\n",
    "print data[data['#adversarial'].isin([2])].groupby(['#visibleNodes', 'network'])['ratio'].mean()\n",
    "print\n",
    "print '*' * 80"
   ]
  },
  {
   "cell_type": "code",
   "execution_count": 108,
   "metadata": {
    "collapsed": false
   },
   "outputs": [
    {
     "name": "stdout",
     "output_type": "stream",
     "text": [
      "********************************************************************************\n",
      "5 adversaries: ratio over visibleNodes and network\n",
      "\n",
      "#visibleNodes  network           \n",
      "0              Barabasi-Albert       0.8108\n",
      "               Erdos-Renyi-dense     0.7590\n",
      "               Erdos-Renyi-sparse    0.8205\n",
      "1              Barabasi-Albert       0.7789\n",
      "               Erdos-Renyi-dense     0.7752\n",
      "               Erdos-Renyi-sparse    0.8377\n",
      "2              Barabasi-Albert       0.7820\n",
      "               Erdos-Renyi-dense     0.8013\n",
      "               Erdos-Renyi-sparse    0.8410\n",
      "5              Barabasi-Albert       0.8222\n",
      "               Erdos-Renyi-dense     0.8443\n",
      "               Erdos-Renyi-sparse    0.8499\n",
      "Name: ratio, dtype: float64\n",
      "\n",
      "********************************************************************************\n"
     ]
    }
   ],
   "source": [
    "print '*' * 80\n",
    "print \"5 adversaries: ratio over visibleNodes and network\\n\"\n",
    "\n",
    "print data[data['#adversarial'].isin([5])].groupby(['#visibleNodes', 'network'])['ratio'].mean()\n",
    "print\n",
    "print '*' * 80"
   ]
  },
  {
   "cell_type": "code",
   "execution_count": 109,
   "metadata": {
    "collapsed": false
   },
   "outputs": [
    {
     "name": "stdout",
     "output_type": "stream",
     "text": [
      "********************************************************************************\n",
      "Barabasi-Albert: ratio over visibleNodes and adversarial\n",
      "\n",
      "#visibleNodes  #adversarial\n",
      "0              0               1.0000\n",
      "               2               0.4987\n",
      "               5               0.8108\n",
      "1              0               1.0000\n",
      "               2               0.5398\n",
      "               5               0.7789\n",
      "2              0               1.0000\n",
      "               2               0.5654\n",
      "               5               0.7820\n",
      "5              0               0.9999\n",
      "               2               0.6700\n",
      "               5               0.8222\n",
      "Name: ratio, dtype: float64\n",
      "\n",
      "********************************************************************************\n"
     ]
    }
   ],
   "source": [
    "print '*' * 80\n",
    "print \"Barabasi-Albert: ratio over visibleNodes and adversarial\\n\"\n",
    "\n",
    "print data[data['network'].isin(['Barabasi-Albert'])].groupby(['#visibleNodes', '#adversarial'])['ratio'].mean()\n",
    "print\n",
    "print '*' * 80"
   ]
  },
  {
   "cell_type": "code",
   "execution_count": 110,
   "metadata": {
    "collapsed": false
   },
   "outputs": [
    {
     "name": "stdout",
     "output_type": "stream",
     "text": [
      "********************************************************************************\n",
      "Erdos-Renyi-dense: ratio over visibleNodes and adversarial\n",
      "\n",
      "#visibleNodes  #adversarial\n",
      "0              0               1.0000\n",
      "               2               0.7544\n",
      "               5               0.7590\n",
      "1              0               1.0000\n",
      "               2               0.7486\n",
      "               5               0.7752\n",
      "2              0               1.0000\n",
      "               2               0.7582\n",
      "               5               0.8013\n",
      "5              0               0.9997\n",
      "               2               0.8029\n",
      "               5               0.8443\n",
      "Name: ratio, dtype: float64\n",
      "\n",
      "********************************************************************************\n"
     ]
    }
   ],
   "source": [
    "print '*' * 80\n",
    "print \"Erdos-Renyi-dense: ratio over visibleNodes and adversarial\\n\"\n",
    "\n",
    "print data[data['network'].isin(['Erdos-Renyi-dense'])].groupby(['#visibleNodes', '#adversarial'])['ratio'].mean()\n",
    "print\n",
    "print '*' * 80"
   ]
  },
  {
   "cell_type": "code",
   "execution_count": 111,
   "metadata": {
    "collapsed": false
   },
   "outputs": [
    {
     "name": "stdout",
     "output_type": "stream",
     "text": [
      "********************************************************************************\n",
      "Erdos-Renyi-sparse: ratio over visibleNodes and adversarial\n",
      "\n",
      "#visibleNodes  #adversarial\n",
      "0              0               1.0000\n",
      "               2               0.6780\n",
      "               5               0.8205\n",
      "1              0               1.0000\n",
      "               2               0.6843\n",
      "               5               0.8377\n",
      "2              0               1.0000\n",
      "               2               0.6971\n",
      "               5               0.8410\n",
      "5              0               0.9979\n",
      "               2               0.7306\n",
      "               5               0.8499\n",
      "Name: ratio, dtype: float64\n",
      "\n",
      "********************************************************************************\n"
     ]
    }
   ],
   "source": [
    "print '*' * 80\n",
    "print \"Erdos-Renyi-sparse: ratio over visibleNodes and adversarial\\n\"\n",
    "\n",
    "print data[data['network'].isin(['Erdos-Renyi-sparse'])].groupby(['#visibleNodes', '#adversarial'])['ratio'].mean()\n",
    "print\n",
    "print '*' * 80"
   ]
  },
  {
   "cell_type": "code",
   "execution_count": 112,
   "metadata": {
    "collapsed": false
   },
   "outputs": [
    {
     "name": "stdout",
     "output_type": "stream",
     "text": [
      "********************************************************************************\n",
      "0 visibleNodes: ratio over network and adversarial\n",
      "\n",
      "network             #adversarial\n",
      "Barabasi-Albert     0               1.0000\n",
      "                    2               0.4987\n",
      "                    5               0.8108\n",
      "Erdos-Renyi-dense   0               1.0000\n",
      "                    2               0.7544\n",
      "                    5               0.7590\n",
      "Erdos-Renyi-sparse  0               1.0000\n",
      "                    2               0.6780\n",
      "                    5               0.8205\n",
      "Name: ratio, dtype: float64\n",
      "\n",
      "********************************************************************************\n"
     ]
    }
   ],
   "source": [
    "print '*' * 80\n",
    "print \"0 visibleNodes: ratio over network and adversarial\\n\"\n",
    "\n",
    "print data[data['#visibleNodes'].isin([0])].groupby(['network', '#adversarial'])['ratio'].mean()\n",
    "print\n",
    "print '*' * 80"
   ]
  },
  {
   "cell_type": "code",
   "execution_count": 113,
   "metadata": {
    "collapsed": false
   },
   "outputs": [
    {
     "name": "stdout",
     "output_type": "stream",
     "text": [
      "********************************************************************************\n",
      "1 visibleNodes: ratio over network and adversarial\n",
      "\n",
      "network             #adversarial\n",
      "Barabasi-Albert     0               1.0000\n",
      "                    2               0.5398\n",
      "                    5               0.7789\n",
      "Erdos-Renyi-dense   0               1.0000\n",
      "                    2               0.7486\n",
      "                    5               0.7752\n",
      "Erdos-Renyi-sparse  0               1.0000\n",
      "                    2               0.6843\n",
      "                    5               0.8377\n",
      "Name: ratio, dtype: float64\n",
      "\n",
      "********************************************************************************\n"
     ]
    }
   ],
   "source": [
    "print '*' * 80\n",
    "print \"1 visibleNodes: ratio over network and adversarial\\n\"\n",
    "\n",
    "print data[data['#visibleNodes'].isin([1])].groupby(['network', '#adversarial'])['ratio'].mean()\n",
    "print\n",
    "print '*' * 80"
   ]
  },
  {
   "cell_type": "code",
   "execution_count": 114,
   "metadata": {
    "collapsed": false
   },
   "outputs": [
    {
     "name": "stdout",
     "output_type": "stream",
     "text": [
      "********************************************************************************\n",
      "2 visibleNodes: ratio over network and adversarial\n",
      "\n",
      "network             #adversarial\n",
      "Barabasi-Albert     0               1.0000\n",
      "                    2               0.5654\n",
      "                    5               0.7820\n",
      "Erdos-Renyi-dense   0               1.0000\n",
      "                    2               0.7582\n",
      "                    5               0.8013\n",
      "Erdos-Renyi-sparse  0               1.0000\n",
      "                    2               0.6971\n",
      "                    5               0.8410\n",
      "Name: ratio, dtype: float64\n",
      "\n",
      "********************************************************************************\n"
     ]
    }
   ],
   "source": [
    "print '*' * 80\n",
    "print \"2 visibleNodes: ratio over network and adversarial\\n\"\n",
    "\n",
    "print data[data['#visibleNodes'].isin([2])].groupby(['network', '#adversarial'])['ratio'].mean()\n",
    "print\n",
    "print '*' * 80"
   ]
  },
  {
   "cell_type": "code",
   "execution_count": 116,
   "metadata": {
    "collapsed": false
   },
   "outputs": [
    {
     "name": "stdout",
     "output_type": "stream",
     "text": [
      "********************************************************************************\n",
      "5 visibleNodes: ratio over network and adversarial\n",
      "\n",
      "network             #adversarial\n",
      "Barabasi-Albert     0               0.9999\n",
      "                    2               0.6700\n",
      "                    5               0.8222\n",
      "Erdos-Renyi-dense   0               0.9997\n",
      "                    2               0.8029\n",
      "                    5               0.8443\n",
      "Erdos-Renyi-sparse  0               0.9979\n",
      "                    2               0.7306\n",
      "                    5               0.8499\n",
      "Name: ratio, dtype: float64\n",
      "\n",
      "********************************************************************************\n"
     ]
    }
   ],
   "source": [
    "print '*' * 80\n",
    "print \"5 visibleNodes: ratio over network and adversarial\\n\"\n",
    "\n",
    "print data[data['#visibleNodes'].isin([5])].groupby(['network', '#adversarial'])['ratio'].mean()\n",
    "print\n",
    "print '*' * 80"
   ]
  },
  {
   "cell_type": "code",
   "execution_count": null,
   "metadata": {
    "collapsed": true
   },
   "outputs": [],
   "source": []
  },
  {
   "cell_type": "code",
   "execution_count": null,
   "metadata": {
    "collapsed": true
   },
   "outputs": [],
   "source": []
  },
  {
   "cell_type": "code",
   "execution_count": null,
   "metadata": {
    "collapsed": true
   },
   "outputs": [],
   "source": []
  }
 ],
 "metadata": {
  "kernelspec": {
   "display_name": "Python 2",
   "language": "python",
   "name": "python2"
  },
  "language_info": {
   "codemirror_mode": {
    "name": "ipython",
    "version": 2
   },
   "file_extension": ".py",
   "mimetype": "text/x-python",
   "name": "python",
   "nbconvert_exporter": "python",
   "pygments_lexer": "ipython2",
   "version": "2.7.11"
  }
 },
 "nbformat": 4,
 "nbformat_minor": 0
}
