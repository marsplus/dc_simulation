{
 "cells": [
  {
   "cell_type": "code",
   "execution_count": 1,
   "metadata": {
    "collapsed": true
   },
   "outputs": [],
   "source": [
    "import pandas as pd"
   ]
  },
  {
   "cell_type": "code",
   "execution_count": 2,
   "metadata": {
    "collapsed": true
   },
   "outputs": [],
   "source": [
    "data = pd.read_csv('result/inertia=0.90.csv')"
   ]
  },
  {
   "cell_type": "code",
   "execution_count": 3,
   "metadata": {
    "collapsed": false
   },
   "outputs": [
    {
     "data": {
      "text/plain": [
       "network             #visibleNodes  #adversarial\n",
       "Barabasi-Albert     1              0               1.0\n",
       "                                   2               1.0\n",
       "                                   5               1.0\n",
       "                    2              0               1.0\n",
       "                                   2               1.0\n",
       "                                   5               1.0\n",
       "                    5              0               1.0\n",
       "                                   2               1.0\n",
       "                                   5               1.0\n",
       "Erdos-Renyi-dense   1              0               1.0\n",
       "                                   2               1.0\n",
       "                                   5               1.0\n",
       "                    2              0               1.0\n",
       "                                   2               1.0\n",
       "                                   5               1.0\n",
       "                    5              0               1.0\n",
       "                                   2               1.0\n",
       "                                   5               1.0\n",
       "Erdos-Renyi-sparse  1              0               1.0\n",
       "                                   2               1.0\n",
       "                                   5               1.0\n",
       "                    2              0               1.0\n",
       "                                   2               1.0\n",
       "                                   5               1.0\n",
       "                    5              0               1.0\n",
       "                                   2               1.0\n",
       "                                   5               1.0\n",
       "Name: ratio, dtype: float64"
      ]
     },
     "execution_count": 3,
     "metadata": {},
     "output_type": "execute_result"
    }
   ],
   "source": [
    "data.groupby(['network', '#visibleNodes', '#adversarial'])['ratio'].mean()"
   ]
  },
  {
   "cell_type": "code",
   "execution_count": 4,
   "metadata": {
    "collapsed": true
   },
   "outputs": [],
   "source": [
    "data = pd.read_csv('result/inertia=0.80.csv')"
   ]
  },
  {
   "cell_type": "code",
   "execution_count": 5,
   "metadata": {
    "collapsed": false
   },
   "outputs": [
    {
     "data": {
      "text/plain": [
       "network             #visibleNodes  #adversarial\n",
       "Barabasi-Albert     1              0               1.0\n",
       "                                   2               1.0\n",
       "                                   5               1.0\n",
       "                    2              0               1.0\n",
       "                                   2               1.0\n",
       "                                   5               1.0\n",
       "                    5              0               1.0\n",
       "                                   2               1.0\n",
       "                                   5               1.0\n",
       "Erdos-Renyi-dense   1              0               1.0\n",
       "                                   2               1.0\n",
       "                                   5               1.0\n",
       "                    2              0               1.0\n",
       "                                   2               1.0\n",
       "                                   5               1.0\n",
       "                    5              0               1.0\n",
       "                                   2               1.0\n",
       "                                   5               1.0\n",
       "Erdos-Renyi-sparse  1              0               1.0\n",
       "                                   2               1.0\n",
       "                                   5               1.0\n",
       "                    2              0               1.0\n",
       "                                   2               1.0\n",
       "                                   5               1.0\n",
       "                    5              0               1.0\n",
       "                                   2               1.0\n",
       "                                   5               1.0\n",
       "Name: ratio, dtype: float64"
      ]
     },
     "execution_count": 5,
     "metadata": {},
     "output_type": "execute_result"
    }
   ],
   "source": [
    "data.groupby(['network', '#visibleNodes', '#adversarial'])['ratio'].mean()"
   ]
  },
  {
   "cell_type": "code",
   "execution_count": 6,
   "metadata": {
    "collapsed": true
   },
   "outputs": [],
   "source": [
    "data = pd.read_csv('result/inertia=0.70.csv')"
   ]
  },
  {
   "cell_type": "code",
   "execution_count": 7,
   "metadata": {
    "collapsed": false
   },
   "outputs": [
    {
     "data": {
      "text/plain": [
       "network             #visibleNodes  #adversarial\n",
       "Barabasi-Albert     1              0               1.00000\n",
       "                                   2               1.00000\n",
       "                                   5               1.00000\n",
       "                    2              0               1.00000\n",
       "                                   2               1.00000\n",
       "                                   5               1.00000\n",
       "                    5              0               1.00000\n",
       "                                   2               1.00000\n",
       "                                   5               1.00000\n",
       "Erdos-Renyi-dense   1              0               1.00000\n",
       "                                   2               1.00000\n",
       "                                   5               1.00000\n",
       "                    2              0               1.00000\n",
       "                                   2               0.99999\n",
       "                                   5               1.00000\n",
       "                    5              0               1.00000\n",
       "                                   2               1.00000\n",
       "                                   5               1.00000\n",
       "Erdos-Renyi-sparse  1              0               1.00000\n",
       "                                   2               1.00000\n",
       "                                   5               1.00000\n",
       "                    2              0               1.00000\n",
       "                                   2               1.00000\n",
       "                                   5               1.00000\n",
       "                    5              0               1.00000\n",
       "                                   2               1.00000\n",
       "                                   5               1.00000\n",
       "Name: ratio, dtype: float64"
      ]
     },
     "execution_count": 7,
     "metadata": {},
     "output_type": "execute_result"
    }
   ],
   "source": [
    "data.groupby(['network', '#visibleNodes', '#adversarial'])['ratio'].mean()"
   ]
  },
  {
   "cell_type": "code",
   "execution_count": 8,
   "metadata": {
    "collapsed": true
   },
   "outputs": [],
   "source": [
    "data = pd.read_csv('result/inertia=0.60.csv')"
   ]
  },
  {
   "cell_type": "code",
   "execution_count": 9,
   "metadata": {
    "collapsed": false
   },
   "outputs": [
    {
     "data": {
      "text/plain": [
       "network             #visibleNodes  #adversarial\n",
       "Barabasi-Albert     1              0               1.00000\n",
       "                                   2               0.99999\n",
       "                                   5               1.00000\n",
       "                    2              0               1.00000\n",
       "                                   2               1.00000\n",
       "                                   5               1.00000\n",
       "                    5              0               0.99999\n",
       "                                   2               1.00000\n",
       "                                   5               1.00000\n",
       "Erdos-Renyi-dense   1              0               1.00000\n",
       "                                   2               1.00000\n",
       "                                   5               1.00000\n",
       "                    2              0               0.99999\n",
       "                                   2               0.99999\n",
       "                                   5               1.00000\n",
       "                    5              0               1.00000\n",
       "                                   2               1.00000\n",
       "                                   5               1.00000\n",
       "Erdos-Renyi-sparse  1              0               1.00000\n",
       "                                   2               1.00000\n",
       "                                   5               1.00000\n",
       "                    2              0               1.00000\n",
       "                                   2               1.00000\n",
       "                                   5               1.00000\n",
       "                    5              0               1.00000\n",
       "                                   2               1.00000\n",
       "                                   5               1.00000\n",
       "Name: ratio, dtype: float64"
      ]
     },
     "execution_count": 9,
     "metadata": {},
     "output_type": "execute_result"
    }
   ],
   "source": [
    "data.groupby(['network', '#visibleNodes', '#adversarial'])['ratio'].mean()"
   ]
  },
  {
   "cell_type": "code",
   "execution_count": 10,
   "metadata": {
    "collapsed": true
   },
   "outputs": [],
   "source": [
    "data = pd.read_csv('result/inertia=0.50.csv')"
   ]
  },
  {
   "cell_type": "code",
   "execution_count": 11,
   "metadata": {
    "collapsed": false
   },
   "outputs": [
    {
     "data": {
      "text/plain": [
       "network             #visibleNodes  #adversarial\n",
       "Barabasi-Albert     1              0               0.99999\n",
       "                                   2               1.00000\n",
       "                                   5               1.00000\n",
       "                    2              0               1.00000\n",
       "                                   2               1.00000\n",
       "                                   5               1.00000\n",
       "                    5              0               1.00000\n",
       "                                   2               0.99999\n",
       "                                   5               1.00000\n",
       "Erdos-Renyi-dense   1              0               0.99999\n",
       "                                   2               1.00000\n",
       "                                   5               0.99999\n",
       "                    2              0               0.99999\n",
       "                                   2               1.00000\n",
       "                                   5               1.00000\n",
       "                    5              0               1.00000\n",
       "                                   2               1.00000\n",
       "                                   5               0.99999\n",
       "Erdos-Renyi-sparse  1              0               0.99999\n",
       "                                   2               1.00000\n",
       "                                   5               0.99999\n",
       "                    2              0               0.99999\n",
       "                                   2               0.99999\n",
       "                                   5               0.99999\n",
       "                    5              0               1.00000\n",
       "                                   2               1.00000\n",
       "                                   5               1.00000\n",
       "Name: ratio, dtype: float64"
      ]
     },
     "execution_count": 11,
     "metadata": {},
     "output_type": "execute_result"
    }
   ],
   "source": [
    "data.groupby(['network', '#visibleNodes', '#adversarial'])['ratio'].mean()"
   ]
  },
  {
   "cell_type": "code",
   "execution_count": 12,
   "metadata": {
    "collapsed": true
   },
   "outputs": [],
   "source": [
    "data = pd.read_csv('result/inertia=0.40.csv')"
   ]
  },
  {
   "cell_type": "code",
   "execution_count": 13,
   "metadata": {
    "collapsed": false
   },
   "outputs": [
    {
     "data": {
      "text/plain": [
       "network             #visibleNodes  #adversarial\n",
       "Barabasi-Albert     1              0               0.99999\n",
       "                                   2               1.00000\n",
       "                                   5               0.99997\n",
       "                    2              0               0.99994\n",
       "                                   2               0.99996\n",
       "                                   5               0.99997\n",
       "                    5              0               0.99996\n",
       "                                   2               0.99993\n",
       "                                   5               0.99997\n",
       "Erdos-Renyi-dense   1              0               0.99995\n",
       "                                   2               0.99998\n",
       "                                   5               0.99997\n",
       "                    2              0               0.99995\n",
       "                                   2               0.99994\n",
       "                                   5               0.99994\n",
       "                    5              0               1.00000\n",
       "                                   2               0.99995\n",
       "                                   5               0.99992\n",
       "Erdos-Renyi-sparse  1              0               0.99997\n",
       "                                   2               0.99993\n",
       "                                   5               0.99997\n",
       "                    2              0               0.99997\n",
       "                                   2               0.99999\n",
       "                                   5               0.99997\n",
       "                    5              0               0.99996\n",
       "                                   2               0.99997\n",
       "                                   5               0.99999\n",
       "Name: ratio, dtype: float64"
      ]
     },
     "execution_count": 13,
     "metadata": {},
     "output_type": "execute_result"
    }
   ],
   "source": [
    "data.groupby(['network', '#visibleNodes', '#adversarial'])['ratio'].mean()"
   ]
  },
  {
   "cell_type": "code",
   "execution_count": 14,
   "metadata": {
    "collapsed": true
   },
   "outputs": [],
   "source": [
    "data = pd.read_csv('result/inertia=0.30.csv')"
   ]
  },
  {
   "cell_type": "code",
   "execution_count": 15,
   "metadata": {
    "collapsed": false
   },
   "outputs": [
    {
     "data": {
      "text/plain": [
       "network             #visibleNodes  #adversarial\n",
       "Barabasi-Albert     1              0               0.99974\n",
       "                                   2               0.99972\n",
       "                                   5               0.99970\n",
       "                    2              0               0.99970\n",
       "                                   2               0.99973\n",
       "                                   5               0.99961\n",
       "                    5              0               0.99962\n",
       "                                   2               0.99968\n",
       "                                   5               0.99972\n",
       "Erdos-Renyi-dense   1              0               0.99974\n",
       "                                   2               0.99971\n",
       "                                   5               0.99971\n",
       "                    2              0               0.99957\n",
       "                                   2               0.99974\n",
       "                                   5               0.99959\n",
       "                    5              0               0.99972\n",
       "                                   2               0.99976\n",
       "                                   5               0.99974\n",
       "Erdos-Renyi-sparse  1              0               0.99969\n",
       "                                   2               0.99968\n",
       "                                   5               0.99964\n",
       "                    2              0               0.99972\n",
       "                                   2               0.99979\n",
       "                                   5               0.99959\n",
       "                    5              0               0.99972\n",
       "                                   2               0.99968\n",
       "                                   5               0.99971\n",
       "Name: ratio, dtype: float64"
      ]
     },
     "execution_count": 15,
     "metadata": {},
     "output_type": "execute_result"
    }
   ],
   "source": [
    "data.groupby(['network', '#visibleNodes', '#adversarial'])['ratio'].mean()"
   ]
  },
  {
   "cell_type": "code",
   "execution_count": 16,
   "metadata": {
    "collapsed": false
   },
   "outputs": [
    {
     "data": {
      "text/plain": [
       "network             #visibleNodes  #adversarial\n",
       "Barabasi-Albert     1              0               0.99553\n",
       "                                   2               0.99577\n",
       "                                   5               0.99567\n",
       "                    2              0               0.99545\n",
       "                                   2               0.99557\n",
       "                                   5               0.99550\n",
       "                    5              0               0.99551\n",
       "                                   2               0.99585\n",
       "                                   5               0.99566\n",
       "Erdos-Renyi-dense   1              0               0.99626\n",
       "                                   2               0.99529\n",
       "                                   5               0.99590\n",
       "                    2              0               0.99555\n",
       "                                   2               0.99577\n",
       "                                   5               0.99564\n",
       "                    5              0               0.99572\n",
       "                                   2               0.99564\n",
       "                                   5               0.99543\n",
       "Erdos-Renyi-sparse  1              0               0.99575\n",
       "                                   2               0.99550\n",
       "                                   5               0.99553\n",
       "                    2              0               0.99585\n",
       "                                   2               0.99576\n",
       "                                   5               0.99566\n",
       "                    5              0               0.99562\n",
       "                                   2               0.99578\n",
       "                                   5               0.99582\n",
       "Name: ratio, dtype: float64"
      ]
     },
     "execution_count": 16,
     "metadata": {},
     "output_type": "execute_result"
    }
   ],
   "source": [
    "data = pd.read_csv('result/inertia=0.20.csv')\n",
    "data.groupby(['network', '#visibleNodes', '#adversarial'])['ratio'].mean()"
   ]
  },
  {
   "cell_type": "code",
   "execution_count": 17,
   "metadata": {
    "collapsed": false
   },
   "outputs": [
    {
     "data": {
      "text/plain": [
       "network             #visibleNodes  #adversarial\n",
       "Barabasi-Albert     1              0               0.87423\n",
       "                                   2               0.87631\n",
       "                                   5               0.87412\n",
       "                    2              0               0.87434\n",
       "                                   2               0.87511\n",
       "                                   5               0.87478\n",
       "                    5              0               0.87508\n",
       "                                   2               0.87278\n",
       "                                   5               0.87429\n",
       "Erdos-Renyi-dense   1              0               0.87420\n",
       "                                   2               0.87578\n",
       "                                   5               0.87565\n",
       "                    2              0               0.87632\n",
       "                                   2               0.87432\n",
       "                                   5               0.87470\n",
       "                    5              0               0.87755\n",
       "                                   2               0.87481\n",
       "                                   5               0.87457\n",
       "Erdos-Renyi-sparse  1              0               0.87388\n",
       "                                   2               0.87517\n",
       "                                   5               0.87373\n",
       "                    2              0               0.87581\n",
       "                                   2               0.87537\n",
       "                                   5               0.87514\n",
       "                    5              0               0.87534\n",
       "                                   2               0.87492\n",
       "                                   5               0.87637\n",
       "Name: ratio, dtype: float64"
      ]
     },
     "execution_count": 17,
     "metadata": {},
     "output_type": "execute_result"
    }
   ],
   "source": [
    "data = pd.read_csv('result/inertia=0.10.csv')\n",
    "data.groupby(['network', '#visibleNodes', '#adversarial'])['ratio'].mean()"
   ]
  },
  {
   "cell_type": "code",
   "execution_count": null,
   "metadata": {
    "collapsed": true
   },
   "outputs": [],
   "source": []
  }
 ],
 "metadata": {
  "kernelspec": {
   "display_name": "Python 2",
   "language": "python",
   "name": "python2"
  },
  "language_info": {
   "codemirror_mode": {
    "name": "ipython",
    "version": 2
   },
   "file_extension": ".py",
   "mimetype": "text/x-python",
   "name": "python",
   "nbconvert_exporter": "python",
   "pygments_lexer": "ipython2",
   "version": "2.7.11"
  }
 },
 "nbformat": 4,
 "nbformat_minor": 0
}
