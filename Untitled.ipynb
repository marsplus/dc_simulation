{
 "cells": [
  {
   "cell_type": "code",
   "execution_count": 28,
   "metadata": {
    "collapsed": true
   },
   "outputs": [],
   "source": [
    "import pandas as pd"
   ]
  },
  {
   "cell_type": "code",
   "execution_count": 29,
   "metadata": {
    "collapsed": false
   },
   "outputs": [],
   "source": [
    "data = pd.read_csv('result/consensus_inertia=0.90.csv', sep=',')\n",
    "time = pd.read_csv('result/time_inertia=0.90.csv', sep=',')"
   ]
  },
  {
   "cell_type": "markdown",
   "metadata": {},
   "source": [
    "\n",
    "\n",
    "\n"
   ]
  },
  {
   "cell_type": "code",
   "execution_count": 38,
   "metadata": {
    "collapsed": false
   },
   "outputs": [
    {
     "name": "stdout",
     "output_type": "stream",
     "text": [
      "********************************************************************************\n",
      "ratio over adversaries\n",
      "\n",
      "#adversarial\n",
      "0    0.999988\n",
      "2    0.668538\n",
      "5    0.465863\n",
      "Name: ratio, dtype: float64\n",
      "\n",
      "********************************************************************************\n"
     ]
    }
   ],
   "source": [
    "print '*' * 80\n",
    "print \"ratio over adversaries\\n\"\n",
    "\n",
    "print data.groupby('#adversarial')['ratio'].mean()\n",
    "print\n",
    "\n",
    "print '*' * 80"
   ]
  },
  {
   "cell_type": "code",
   "execution_count": 39,
   "metadata": {
    "collapsed": false
   },
   "outputs": [
    {
     "name": "stdout",
     "output_type": "stream",
     "text": [
      "********************************************************************************\n",
      "ratio over network\n",
      "\n",
      "network\n",
      "Barabasi-Albert       0.645708\n",
      "Erdos-Renyi-dense     0.781858\n",
      "Erdos-Renyi-sparse    0.706821\n",
      "Name: ratio, dtype: float64\n",
      "\n",
      "********************************************************************************\n"
     ]
    }
   ],
   "source": [
    "print '*' * 80\n",
    "print \"ratio over network\\n\"\n",
    "\n",
    "print data.groupby('network')['ratio'].mean()\n",
    "print\n",
    "print '*' * 80"
   ]
  },
  {
   "cell_type": "code",
   "execution_count": 40,
   "metadata": {
    "collapsed": false
   },
   "outputs": [
    {
     "name": "stdout",
     "output_type": "stream",
     "text": [
      "********************************************************************************\n",
      "ratio over visibleNodes\n",
      "\n",
      "#visibleNodes\n",
      "0    0.702528\n",
      "1    0.702767\n",
      "2    0.708778\n",
      "5    0.731778\n",
      "Name: ratio, dtype: float64\n",
      "\n",
      "********************************************************************************\n"
     ]
    }
   ],
   "source": [
    "print '*' * 80\n",
    "print \"ratio over visibleNodes\\n\"\n",
    "\n",
    "print data.groupby('#visibleNodes')['ratio'].mean()\n",
    "print\n",
    "print '*' * 80"
   ]
  },
  {
   "cell_type": "code",
   "execution_count": 41,
   "metadata": {
    "collapsed": false
   },
   "outputs": [
    {
     "name": "stdout",
     "output_type": "stream",
     "text": [
      "********************************************************************************\n",
      "ratio over adversaries and network\n",
      "\n",
      "#adversarial  network           \n",
      "0             Barabasi-Albert       1.000000\n",
      "              Erdos-Renyi-dense     1.000000\n",
      "              Erdos-Renyi-sparse    0.999962\n",
      "2             Barabasi-Albert       0.600625\n",
      "              Erdos-Renyi-dense     0.761837\n",
      "              Erdos-Renyi-sparse    0.643150\n",
      "5             Barabasi-Albert       0.336500\n",
      "              Erdos-Renyi-dense     0.583738\n",
      "              Erdos-Renyi-sparse    0.477350\n",
      "Name: ratio, dtype: float64\n",
      "\n",
      "********************************************************************************\n"
     ]
    }
   ],
   "source": [
    "print '*' * 80\n",
    "print \"ratio over adversaries and network\\n\"\n",
    "\n",
    "print data.groupby(['#adversarial', 'network'])['ratio'].mean()\n",
    "print\n",
    "print '*' * 80"
   ]
  },
  {
   "cell_type": "code",
   "execution_count": 42,
   "metadata": {
    "collapsed": false
   },
   "outputs": [
    {
     "name": "stdout",
     "output_type": "stream",
     "text": [
      "********************************************************************************\n",
      "ratio over adversaries and visibleNodes\n",
      "\n",
      "#adversarial  #visibleNodes\n",
      "0             0                1.000000\n",
      "              1                1.000000\n",
      "              2                1.000000\n",
      "              5                0.999950\n",
      "2             0                0.658517\n",
      "              1                0.654283\n",
      "              2                0.659283\n",
      "              5                0.702067\n",
      "5             0                0.449067\n",
      "              1                0.454017\n",
      "              2                0.467050\n",
      "              5                0.493317\n",
      "Name: ratio, dtype: float64\n",
      "\n",
      "********************************************************************************\n"
     ]
    }
   ],
   "source": [
    "print '*' * 80\n",
    "print \"ratio over adversaries and visibleNodes\\n\"\n",
    "\n",
    "print data.groupby(['#adversarial', '#visibleNodes'])['ratio'].mean()\n",
    "print\n",
    "print '*' * 80"
   ]
  },
  {
   "cell_type": "code",
   "execution_count": 43,
   "metadata": {
    "collapsed": false
   },
   "outputs": [
    {
     "name": "stdout",
     "output_type": "stream",
     "text": [
      "********************************************************************************\n",
      "ratio over network and adversaries\n",
      "\n",
      "network             #adversarial\n",
      "Barabasi-Albert     0               1.000000\n",
      "                    2               0.600625\n",
      "                    5               0.336500\n",
      "Erdos-Renyi-dense   0               1.000000\n",
      "                    2               0.761837\n",
      "                    5               0.583738\n",
      "Erdos-Renyi-sparse  0               0.999962\n",
      "                    2               0.643150\n",
      "                    5               0.477350\n",
      "Name: ratio, dtype: float64\n",
      "\n",
      "********************************************************************************\n"
     ]
    }
   ],
   "source": [
    "print '*' * 80\n",
    "print \"ratio over network and adversaries\\n\"\n",
    "\n",
    "print data.groupby(['network', '#adversarial'])['ratio'].mean()\n",
    "print\n",
    "print '*' * 80"
   ]
  },
  {
   "cell_type": "code",
   "execution_count": 44,
   "metadata": {
    "collapsed": false
   },
   "outputs": [
    {
     "name": "stdout",
     "output_type": "stream",
     "text": [
      "********************************************************************************\n",
      "ratio over network and visibleNodes\n",
      "\n",
      "network             #visibleNodes\n",
      "Barabasi-Albert     0                0.610750\n",
      "                    1                0.626450\n",
      "                    2                0.644683\n",
      "                    5                0.700950\n",
      "Erdos-Renyi-dense   0                0.780817\n",
      "                    1                0.774167\n",
      "                    2                0.776967\n",
      "                    5                0.795483\n",
      "Erdos-Renyi-sparse  0                0.716017\n",
      "                    1                0.707683\n",
      "                    2                0.704683\n",
      "                    5                0.698900\n",
      "Name: ratio, dtype: float64\n",
      "\n",
      "********************************************************************************\n"
     ]
    }
   ],
   "source": [
    "print '*' * 80\n",
    "print \"ratio over network and visibleNodes\\n\"\n",
    "\n",
    "print data.groupby(['network', '#visibleNodes'])['ratio'].mean()\n",
    "print\n",
    "print '*' * 80"
   ]
  },
  {
   "cell_type": "code",
   "execution_count": 45,
   "metadata": {
    "collapsed": false
   },
   "outputs": [
    {
     "name": "stdout",
     "output_type": "stream",
     "text": [
      "********************************************************************************\n",
      "ratio over visibleNodes and adversaries\n",
      "\n",
      "#visibleNodes  #adversarial\n",
      "0              0               1.000000\n",
      "               2               0.658517\n",
      "               5               0.449067\n",
      "1              0               1.000000\n",
      "               2               0.654283\n",
      "               5               0.454017\n",
      "2              0               1.000000\n",
      "               2               0.659283\n",
      "               5               0.467050\n",
      "5              0               0.999950\n",
      "               2               0.702067\n",
      "               5               0.493317\n",
      "Name: ratio, dtype: float64\n",
      "\n",
      "********************************************************************************\n"
     ]
    }
   ],
   "source": [
    "print '*' * 80\n",
    "print \"ratio over visibleNodes and adversaries\\n\"\n",
    "\n",
    "print data.groupby(['#visibleNodes', '#adversarial'])['ratio'].mean()\n",
    "print\n",
    "print '*' * 80"
   ]
  },
  {
   "cell_type": "code",
   "execution_count": 46,
   "metadata": {
    "collapsed": false
   },
   "outputs": [
    {
     "name": "stdout",
     "output_type": "stream",
     "text": [
      "********************************************************************************\n",
      "ratio over visibleNodes and network\n",
      "\n",
      "#visibleNodes  network           \n",
      "0              Barabasi-Albert       0.610750\n",
      "               Erdos-Renyi-dense     0.780817\n",
      "               Erdos-Renyi-sparse    0.716017\n",
      "1              Barabasi-Albert       0.626450\n",
      "               Erdos-Renyi-dense     0.774167\n",
      "               Erdos-Renyi-sparse    0.707683\n",
      "2              Barabasi-Albert       0.644683\n",
      "               Erdos-Renyi-dense     0.776967\n",
      "               Erdos-Renyi-sparse    0.704683\n",
      "5              Barabasi-Albert       0.700950\n",
      "               Erdos-Renyi-dense     0.795483\n",
      "               Erdos-Renyi-sparse    0.698900\n",
      "Name: ratio, dtype: float64\n",
      "\n",
      "********************************************************************************\n"
     ]
    }
   ],
   "source": [
    "print '*' * 80\n",
    "print \"ratio over visibleNodes and network\\n\"\n",
    "\n",
    "print data.groupby(['#visibleNodes', 'network'])['ratio'].mean()\n",
    "print\n",
    "print '*' * 80"
   ]
  },
  {
   "cell_type": "code",
   "execution_count": 47,
   "metadata": {
    "collapsed": false
   },
   "outputs": [
    {
     "name": "stdout",
     "output_type": "stream",
     "text": [
      "********************************************************************************\n",
      "0 adversaries: ratio over visibleNodes and network\n",
      "\n",
      "#visibleNodes  network           \n",
      "0              Barabasi-Albert       1.00000\n",
      "               Erdos-Renyi-dense     1.00000\n",
      "               Erdos-Renyi-sparse    1.00000\n",
      "1              Barabasi-Albert       1.00000\n",
      "               Erdos-Renyi-dense     1.00000\n",
      "               Erdos-Renyi-sparse    1.00000\n",
      "2              Barabasi-Albert       1.00000\n",
      "               Erdos-Renyi-dense     1.00000\n",
      "               Erdos-Renyi-sparse    1.00000\n",
      "5              Barabasi-Albert       1.00000\n",
      "               Erdos-Renyi-dense     1.00000\n",
      "               Erdos-Renyi-sparse    0.99985\n",
      "Name: ratio, dtype: float64\n",
      "\n",
      "********************************************************************************\n"
     ]
    }
   ],
   "source": [
    "print '*' * 80\n",
    "print \"0 adversaries: ratio over visibleNodes and network\\n\"\n",
    "\n",
    "print data[data['#adversarial'].isin([0])].groupby(['#visibleNodes', 'network'])['ratio'].mean()\n",
    "print\n",
    "print '*' * 80"
   ]
  },
  {
   "cell_type": "code",
   "execution_count": 48,
   "metadata": {
    "collapsed": false
   },
   "outputs": [
    {
     "name": "stdout",
     "output_type": "stream",
     "text": [
      "********************************************************************************\n",
      "2 adversaries: ratio over visibleNodes and network\n",
      "\n",
      "#visibleNodes  network           \n",
      "0              Barabasi-Albert       0.55880\n",
      "               Erdos-Renyi-dense     0.76940\n",
      "               Erdos-Renyi-sparse    0.64735\n",
      "1              Barabasi-Albert       0.57150\n",
      "               Erdos-Renyi-dense     0.75015\n",
      "               Erdos-Renyi-sparse    0.64120\n",
      "2              Barabasi-Albert       0.58970\n",
      "               Erdos-Renyi-dense     0.75005\n",
      "               Erdos-Renyi-sparse    0.63810\n",
      "5              Barabasi-Albert       0.68250\n",
      "               Erdos-Renyi-dense     0.77775\n",
      "               Erdos-Renyi-sparse    0.64595\n",
      "Name: ratio, dtype: float64\n",
      "\n",
      "********************************************************************************\n"
     ]
    }
   ],
   "source": [
    "print '*' * 80\n",
    "print \"2 adversaries: ratio over visibleNodes and network\\n\"\n",
    "\n",
    "print data[data['#adversarial'].isin([2])].groupby(['#visibleNodes', 'network'])['ratio'].mean()\n",
    "print\n",
    "print '*' * 80"
   ]
  },
  {
   "cell_type": "code",
   "execution_count": 49,
   "metadata": {
    "collapsed": false
   },
   "outputs": [
    {
     "name": "stdout",
     "output_type": "stream",
     "text": [
      "********************************************************************************\n",
      "5 adversaries: ratio over visibleNodes and network\n",
      "\n",
      "#visibleNodes  network           \n",
      "0              Barabasi-Albert       0.27345\n",
      "               Erdos-Renyi-dense     0.57305\n",
      "               Erdos-Renyi-sparse    0.50070\n",
      "1              Barabasi-Albert       0.30785\n",
      "               Erdos-Renyi-dense     0.57235\n",
      "               Erdos-Renyi-sparse    0.48185\n",
      "2              Barabasi-Albert       0.34435\n",
      "               Erdos-Renyi-dense     0.58085\n",
      "               Erdos-Renyi-sparse    0.47595\n",
      "5              Barabasi-Albert       0.42035\n",
      "               Erdos-Renyi-dense     0.60870\n",
      "               Erdos-Renyi-sparse    0.45090\n",
      "Name: ratio, dtype: float64\n",
      "\n",
      "********************************************************************************\n"
     ]
    }
   ],
   "source": [
    "print '*' * 80\n",
    "print \"5 adversaries: ratio over visibleNodes and network\\n\"\n",
    "\n",
    "print data[data['#adversarial'].isin([5])].groupby(['#visibleNodes', 'network'])['ratio'].mean()\n",
    "print\n",
    "print '*' * 80"
   ]
  },
  {
   "cell_type": "code",
   "execution_count": 50,
   "metadata": {
    "collapsed": false
   },
   "outputs": [
    {
     "name": "stdout",
     "output_type": "stream",
     "text": [
      "********************************************************************************\n",
      "Barabasi-Albert: ratio over visibleNodes and adversarial\n",
      "\n",
      "#visibleNodes  #adversarial\n",
      "0              0               1.00000\n",
      "               2               0.55880\n",
      "               5               0.27345\n",
      "1              0               1.00000\n",
      "               2               0.57150\n",
      "               5               0.30785\n",
      "2              0               1.00000\n",
      "               2               0.58970\n",
      "               5               0.34435\n",
      "5              0               1.00000\n",
      "               2               0.68250\n",
      "               5               0.42035\n",
      "Name: ratio, dtype: float64\n",
      "\n",
      "********************************************************************************\n"
     ]
    }
   ],
   "source": [
    "print '*' * 80\n",
    "print \"Barabasi-Albert: ratio over visibleNodes and adversarial\\n\"\n",
    "\n",
    "print data[data['network'].isin(['Barabasi-Albert'])].groupby(['#visibleNodes', '#adversarial'])['ratio'].mean()\n",
    "print\n",
    "print '*' * 80"
   ]
  },
  {
   "cell_type": "code",
   "execution_count": 51,
   "metadata": {
    "collapsed": false
   },
   "outputs": [
    {
     "name": "stdout",
     "output_type": "stream",
     "text": [
      "********************************************************************************\n",
      "Erdos-Renyi-dense: ratio over visibleNodes and adversarial\n",
      "\n",
      "#visibleNodes  #adversarial\n",
      "0              0               1.00000\n",
      "               2               0.76940\n",
      "               5               0.57305\n",
      "1              0               1.00000\n",
      "               2               0.75015\n",
      "               5               0.57235\n",
      "2              0               1.00000\n",
      "               2               0.75005\n",
      "               5               0.58085\n",
      "5              0               1.00000\n",
      "               2               0.77775\n",
      "               5               0.60870\n",
      "Name: ratio, dtype: float64\n",
      "\n",
      "********************************************************************************\n"
     ]
    }
   ],
   "source": [
    "print '*' * 80\n",
    "print \"Erdos-Renyi-dense: ratio over visibleNodes and adversarial\\n\"\n",
    "\n",
    "print data[data['network'].isin(['Erdos-Renyi-dense'])].groupby(['#visibleNodes', '#adversarial'])['ratio'].mean()\n",
    "print\n",
    "print '*' * 80"
   ]
  },
  {
   "cell_type": "code",
   "execution_count": 52,
   "metadata": {
    "collapsed": false
   },
   "outputs": [
    {
     "name": "stdout",
     "output_type": "stream",
     "text": [
      "********************************************************************************\n",
      "Erdos-Renyi-sparse: ratio over visibleNodes and adversarial\n",
      "\n",
      "#visibleNodes  #adversarial\n",
      "0              0               1.00000\n",
      "               2               0.64735\n",
      "               5               0.50070\n",
      "1              0               1.00000\n",
      "               2               0.64120\n",
      "               5               0.48185\n",
      "2              0               1.00000\n",
      "               2               0.63810\n",
      "               5               0.47595\n",
      "5              0               0.99985\n",
      "               2               0.64595\n",
      "               5               0.45090\n",
      "Name: ratio, dtype: float64\n",
      "\n",
      "********************************************************************************\n"
     ]
    }
   ],
   "source": [
    "print '*' * 80\n",
    "print \"Erdos-Renyi-sparse: ratio over visibleNodes and adversarial\\n\"\n",
    "\n",
    "print data[data['network'].isin(['Erdos-Renyi-sparse'])].groupby(['#visibleNodes', '#adversarial'])['ratio'].mean()\n",
    "print\n",
    "print '*' * 80"
   ]
  },
  {
   "cell_type": "code",
   "execution_count": 53,
   "metadata": {
    "collapsed": false
   },
   "outputs": [
    {
     "name": "stdout",
     "output_type": "stream",
     "text": [
      "********************************************************************************\n",
      "0 visibleNodes: ratio over network and adversarial\n",
      "\n",
      "network             #adversarial\n",
      "Barabasi-Albert     0               1.00000\n",
      "                    2               0.55880\n",
      "                    5               0.27345\n",
      "Erdos-Renyi-dense   0               1.00000\n",
      "                    2               0.76940\n",
      "                    5               0.57305\n",
      "Erdos-Renyi-sparse  0               1.00000\n",
      "                    2               0.64735\n",
      "                    5               0.50070\n",
      "Name: ratio, dtype: float64\n",
      "\n",
      "********************************************************************************\n"
     ]
    }
   ],
   "source": [
    "print '*' * 80\n",
    "print \"0 visibleNodes: ratio over network and adversarial\\n\"\n",
    "\n",
    "print data[data['#visibleNodes'].isin([0])].groupby(['network', '#adversarial'])['ratio'].mean()\n",
    "print\n",
    "print '*' * 80"
   ]
  },
  {
   "cell_type": "code",
   "execution_count": 54,
   "metadata": {
    "collapsed": false
   },
   "outputs": [
    {
     "name": "stdout",
     "output_type": "stream",
     "text": [
      "********************************************************************************\n",
      "1 visibleNodes: ratio over network and adversarial\n",
      "\n",
      "network             #adversarial\n",
      "Barabasi-Albert     0               1.00000\n",
      "                    2               0.57150\n",
      "                    5               0.30785\n",
      "Erdos-Renyi-dense   0               1.00000\n",
      "                    2               0.75015\n",
      "                    5               0.57235\n",
      "Erdos-Renyi-sparse  0               1.00000\n",
      "                    2               0.64120\n",
      "                    5               0.48185\n",
      "Name: ratio, dtype: float64\n",
      "\n",
      "********************************************************************************\n"
     ]
    }
   ],
   "source": [
    "print '*' * 80\n",
    "print \"1 visibleNodes: ratio over network and adversarial\\n\"\n",
    "\n",
    "print data[data['#visibleNodes'].isin([1])].groupby(['network', '#adversarial'])['ratio'].mean()\n",
    "print\n",
    "print '*' * 80"
   ]
  },
  {
   "cell_type": "code",
   "execution_count": 55,
   "metadata": {
    "collapsed": false
   },
   "outputs": [
    {
     "name": "stdout",
     "output_type": "stream",
     "text": [
      "********************************************************************************\n",
      "2 visibleNodes: ratio over network and adversarial\n",
      "\n",
      "network             #adversarial\n",
      "Barabasi-Albert     0               1.00000\n",
      "                    2               0.58970\n",
      "                    5               0.34435\n",
      "Erdos-Renyi-dense   0               1.00000\n",
      "                    2               0.75005\n",
      "                    5               0.58085\n",
      "Erdos-Renyi-sparse  0               1.00000\n",
      "                    2               0.63810\n",
      "                    5               0.47595\n",
      "Name: ratio, dtype: float64\n",
      "\n",
      "********************************************************************************\n"
     ]
    }
   ],
   "source": [
    "print '*' * 80\n",
    "print \"2 visibleNodes: ratio over network and adversarial\\n\"\n",
    "\n",
    "print data[data['#visibleNodes'].isin([2])].groupby(['network', '#adversarial'])['ratio'].mean()\n",
    "print\n",
    "print '*' * 80"
   ]
  },
  {
   "cell_type": "code",
   "execution_count": 56,
   "metadata": {
    "collapsed": false,
    "scrolled": true
   },
   "outputs": [
    {
     "name": "stdout",
     "output_type": "stream",
     "text": [
      "********************************************************************************\n",
      "5 visibleNodes: ratio over network and adversarial\n",
      "\n",
      "network             #adversarial\n",
      "Barabasi-Albert     0               1.00000\n",
      "                    2               0.68250\n",
      "                    5               0.42035\n",
      "Erdos-Renyi-dense   0               1.00000\n",
      "                    2               0.77775\n",
      "                    5               0.60870\n",
      "Erdos-Renyi-sparse  0               0.99985\n",
      "                    2               0.64595\n",
      "                    5               0.45090\n",
      "Name: ratio, dtype: float64\n",
      "\n",
      "********************************************************************************\n"
     ]
    }
   ],
   "source": [
    "print '*' * 80\n",
    "print \"5 visibleNodes: ratio over network and adversarial\\n\"\n",
    "\n",
    "print data[data['#visibleNodes'].isin([5])].groupby(['network', '#adversarial'])['ratio'].mean()\n",
    "print\n",
    "print '*' * 80"
   ]
  },
  {
   "cell_type": "code",
   "execution_count": null,
   "metadata": {
    "collapsed": true
   },
   "outputs": [],
   "source": []
  },
  {
   "cell_type": "code",
   "execution_count": null,
   "metadata": {
    "collapsed": true
   },
   "outputs": [],
   "source": []
  },
  {
   "cell_type": "code",
   "execution_count": null,
   "metadata": {
    "collapsed": true
   },
   "outputs": [],
   "source": []
  }
 ],
 "metadata": {
  "kernelspec": {
   "display_name": "Python 2",
   "language": "python",
   "name": "python2"
  },
  "language_info": {
   "codemirror_mode": {
    "name": "ipython",
    "version": 2
   },
   "file_extension": ".py",
   "mimetype": "text/x-python",
   "name": "python",
   "nbconvert_exporter": "python",
   "pygments_lexer": "ipython2",
   "version": "2.7.11"
  }
 },
 "nbformat": 4,
 "nbformat_minor": 0
}
